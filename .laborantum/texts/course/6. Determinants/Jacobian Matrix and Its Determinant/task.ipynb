{
    "cells": [
        {
            "cell_type": "markdown",
            "metadata": {},
            "source": [
                "# Jacobian Matrix and Its Determinant\n",
                "\n",
                "Write a function that calculates Jacobian matrix and its determinant for given $x$ and $y$:\n",
                "\n",
                "1. $\n",
                "\\begin{cases}\n",
                "\\chi = x^2 + y \\\\\n",
                "\\xi = xy\n",
                "\\end{cases}$\n",
                "\n",
                "2. $\n",
                "\\begin{cases}\n",
                "x = r \\sin \\phi \\\\\n",
                "y = r \\cos \\phi\n",
                "\\end{cases}\n",
                "$\n",
                "\n",
                "<!--\n",
                "$\n",
                "\\begin{cases}\n",
                "r = \\sqrt{x^2 + y^2 + z^2} \\\\\n",
                "\\phi = \\arctan {\\frac{z}{\\sqrt{x^2 + y^2}}} \\\\\n",
                "\\theta = \\arctan {\\frac{y}{x}} \\\\\n",
                "\\end{cases}\n",
                "$\n",
                "-->"
            ]
        },
        {
            "cell_type": "code",
            "execution_count": 36,
            "metadata": {},
            "outputs": [],
            "source": [
                "import numpy as np\n",
                "import json_tricks"
            ]
        },
        {
            "cell_type": "code",
            "execution_count": 37,
            "metadata": {},
            "outputs": [],
            "source": [
                "def task_1(x, y):\n",
                "    J = np.array([\n",
                "        [2 * x, 1],\n",
                "        [y, x]   \n",
                "    ])\n",
                "    det_J = (\n",
                "        (2 * (x )) - y \n",
                "    )\n",
                "    return J, det_J\n",
                "\n",
                "\n",
                "def task_2(r, phi):\n",
                "    J = np.array([\n",
                "        [np.sin(phi), r*np.cos(phi)],\n",
                "        [np.cos(phi), -r*np.sin(phi)]\n",
                "    ])\n",
                "    det_J = (\n",
                "        -r \n",
                "    )\n",
                "    return J, det_J"
            ]
        },
        {
            "cell_type": "code",
            "execution_count": 38,
            "metadata": {},
            "outputs": [
                {
                    "name": "stdout",
                    "output_type": "stream",
                    "text": [
                        "OrderedDict([('x', -1.7028059582853416), ('y', -0.5896895888083904)])\n",
                        "(array([[-3.40561192,  1.        ],\n",
                        "       [-0.58968959, -1.70280596]]), -2.815922327762293)\n"
                    ]
                }
            ],
            "source": [
                "inputs = json_tricks.load('inputs/inputs.json')\n",
                "\n",
                "results = {\n",
                "    'task1': [],\n",
                "    'task2': []\n",
                "}\n",
                "\n",
                "for args in inputs['task1']:\n",
                "    # print(inputs['task1'])\n",
                "    results['task1'].append(task_1(**args))\n",
                "\n",
                "for args in inputs['task2']:\n",
                "    results['task2'].append(task_2(**args))\n",
                "\n",
                "json_tricks.dump(results, '.answer.json')\n",
                "\n",
                "test = 1\n",
                "print(inputs['task1'][test])\n",
                "print(task_1(**inputs['task1'][test]))"
            ]
        }
    ],
    "metadata": {
        "kernelspec": {
            "display_name": "Python 3",
            "language": "python",
            "name": "python3"
        },
        "language_info": {
            "codemirror_mode": {
                "name": "ipython",
                "version": 3
            },
            "file_extension": ".py",
            "mimetype": "text/x-python",
            "name": "python",
            "nbconvert_exporter": "python",
            "pygments_lexer": "ipython3",
            "version": "3.11.13"
        }
    },
    "nbformat": 4,
    "nbformat_minor": 2
}
