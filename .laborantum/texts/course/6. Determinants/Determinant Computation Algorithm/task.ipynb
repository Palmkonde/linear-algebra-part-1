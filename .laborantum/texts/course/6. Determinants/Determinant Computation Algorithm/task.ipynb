{
    "cells": [
        {
            "cell_type": "markdown",
            "metadata": {},
            "source": [
                "# Determinant Computation Algorithm\n",
                "\n",
                "Write a function that accepts a matrix in form of numpy array and calculates its determinant in the most efficient way (the algorithm will be tested on large matrices).\n",
                "\n",
                "Use vectorized `numpy` operations.\n",
                "\n",
                "You are allowed to use `numpy.linalg`"
            ]
        },
        {
            "cell_type": "code",
            "execution_count": 183,
            "metadata": {},
            "outputs": [],
            "source": [
                "import numpy as np\n",
                "import json_tricks\n",
                "import scipy"
            ]
        },
        {
            "cell_type": "code",
            "execution_count": 184,
            "metadata": {},
            "outputs": [],
            "source": [
                "def lu_decomposition(A):\n",
                "    n = A.shape[0]\n",
                "    \n",
                "    L = np.eye(n)\n",
                "    U = A.copy().astype(np.float64)\n",
                "    P = np.eye(n)\n",
                "    \n",
                "    num_swaps = 0\n",
                "\n",
                "    for i in range(n):\n",
                "        max_row = np.argmax(np.abs(U[i:, i])) + i\n",
                "\n",
                "        if np.abs(U[max_row, i]) < 1e-12:\n",
                "            continue\n",
                "\n",
                "        if max_row != i:\n",
                "            U[[i, max_row], :] = U[[max_row, i], :]\n",
                "            P[[i, max_row], :] = P[[max_row, i], :]\n",
                "            \n",
                "            if i > 0:\n",
                "                L[[i, max_row], :i] = L[[max_row, i], :i]\n",
                "\n",
                "            num_swaps += 1\n",
                "            \n",
                "        for j in range(i + 1, n):\n",
                "            factor = U[j, i] / U[i, i]\n",
                "            U[j, :] -= factor * U[i, :]\n",
                "            L[j, i] = factor\n",
                "\n",
                "    return P, L, U, num_swaps\n",
                "\n",
                "\n",
                "\n",
                "def determinant_fast(A):\n",
                "    _, _, U, num_swap = lu_decomposition(A)\n",
                "    \n",
                "    U_diag = np.diag(U)\n",
                "    det_u = np.prod(U_diag)\n",
                "    \n",
                "    det = det_u * (-1) ** num_swap\n",
                "\n",
                "    return det, U_diag"
            ]
        },
        {
            "cell_type": "code",
            "execution_count": 188,
            "metadata": {},
            "outputs": [
                {
                    "name": "stdout",
                    "output_type": "stream",
                    "text": [
                        "det from np.linalg.det test:17: {np.float64(-8.000000000000009)}\n",
                        "===Answer===\n",
                        "-8.000000000000005\n",
                        "[[-1.        ]\n",
                        " [-1.        ]\n",
                        " [-1.        ]\n",
                        " [-2.        ]\n",
                        " [-1.5       ]\n",
                        " [ 1.        ]\n",
                        " [ 1.33333333]\n",
                        " [-1.        ]\n",
                        " [ 1.5       ]\n",
                        " [-1.        ]\n",
                        " [-2.66666667]\n",
                        " [-1.5       ]\n",
                        " [ 0.33333333]]\n",
                        "===Expected SOLUTION===\n",
                        "det: -8.00000000000001\n",
                        "[[-1.        ]\n",
                        " [-1.        ]\n",
                        " [-1.        ]\n",
                        " [-2.        ]\n",
                        " [-1.5       ]\n",
                        " [ 1.        ]\n",
                        " [ 1.33333333]\n",
                        " [-1.        ]\n",
                        " [ 1.5       ]\n",
                        " [-1.        ]\n",
                        " [ 2.66666667]\n",
                        " [-1.5       ]\n",
                        " [ 0.33333333]]\n"
                    ]
                }
            ],
            "source": [
                "inputs = json_tricks.load('inputs/inputs.json')\n",
                "sol = json_tricks.load('.solution.json')\n",
                "\n",
                "results = {'results': []}\n",
                "for args in inputs['inputs']:\n",
                "    res = determinant_fast(**args)\n",
                "    results['results'].append(res)\n",
                "\n",
                "json_tricks.dump(results, '.answer.json')\n",
                "\n",
                "\n",
                "test = 17\n",
                "res = determinant_fast(**inputs['inputs'][test])\n",
                "print(f\"det from np.linalg.det test:{test}:\",{np.linalg.det(inputs['inputs'][test]['A'])})\n",
                "\n",
                "A = inputs['inputs'][test]['A']\n",
                "# print(A)\n",
                "\n",
                "print(\"===Answer===\")\n",
                "print(res[0])\n",
                "print(res[1].reshape(-1, 1))\n",
                "\n",
                "## debug ##\n",
                "print(\"===Expected SOLUTION===\")\n",
                "print(\"det:\", sol['results'][test][0])\n",
                "print(sol['results'][test][1].reshape(-1, 1))"
            ]
        }
    ],
    "metadata": {
        "kernelspec": {
            "display_name": "Python 3",
            "language": "python",
            "name": "python3"
        },
        "language_info": {
            "codemirror_mode": {
                "name": "ipython",
                "version": 3
            },
            "file_extension": ".py",
            "mimetype": "text/x-python",
            "name": "python",
            "nbconvert_exporter": "python",
            "pygments_lexer": "ipython3",
            "version": "3.11.13"
        }
    },
    "nbformat": 4,
    "nbformat_minor": 2
}
