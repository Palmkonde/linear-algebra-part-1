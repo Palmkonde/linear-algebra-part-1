{
    "cells": [
        {
            "cell_type": "markdown",
            "metadata": {},
            "source": [
                "# Determinant Computation Algorithm\n",
                "\n",
                "Write a function that accepts a matrix in form of numpy array and calculates its determinant in the most efficient way (the algorithm will be tested on large matrices).\n",
                "\n",
                "Use vectorized `numpy` operations.\n",
                "\n",
                "You are allowed to use `numpy.linalg`"
            ]
        },
        {
            "cell_type": "code",
            "execution_count": 16,
            "metadata": {},
            "outputs": [],
            "source": [
                "import numpy as np\n",
                "import json_tricks\n",
                "from scipy.linalg import lu_factor, lu_solve\n",
                "import numpy.linalg as la"
            ]
        },
        {
            "cell_type": "code",
            "execution_count": 17,
            "metadata": {},
            "outputs": [],
            "source": [
                "def determinant_fast(A):\n",
                "    P, L, U = scipy.linalg.lu(A)\n",
                "    \n",
                "    U_diag = np.diag(U)\n",
                "    det_u = np.prod(U_diag)\n",
                "    \n",
                "    n = A.shape[0]\n",
                "    p = []\n",
                "    for i in range(n):\n",
                "        p.append(np.argmax(P[i, :]))\n",
                "    inversions = sum(1 for i in range(len(p)) for j in range(i + 1, len(p)) if p[i] > p[j])\n",
                "\n",
                "    det = det_u * (-1) ** inversions\n",
                "    # det = det_u \n",
                "\n",
                "\n",
                "    return det, U_diag, (P, L, U)"
            ]
        },
        {
            "cell_type": "code",
            "execution_count": 18,
            "metadata": {},
            "outputs": [
                {
                    "name": "stdout",
                    "output_type": "stream",
                    "text": [
                        "det from np.linalg.det test:2: {np.float64(-372.99999999999983)}\n",
                        "Matrix A\n",
                        "[[ 0  0  0 -1  0  0  0 -1  0 -1 -1 -1 -1  0  0  0 -1]\n",
                        " [ 0 -1 -1 -1 -1  0  0  0  0 -1 -1 -1 -1 -1  0 -1  0]\n",
                        " [-1 -1  0  0 -1  0  0  0 -1 -1  0 -1 -1  0  0 -1  0]\n",
                        " [-1 -1 -1  0 -1 -1  0  0  0  0 -1  0 -1 -1 -1 -1  0]\n",
                        " [-1  0  0  0 -1 -1  0  0  0 -1 -1 -1  0  0 -1 -1 -1]\n",
                        " [-1 -1  0  0 -1 -1 -1  0 -1 -1  0 -1  0 -1 -1 -1 -1]\n",
                        " [ 0 -1  0  0 -1 -1 -1 -1  0  0  0 -1 -1 -1  0 -1 -1]\n",
                        " [ 0 -1  0 -1 -1 -1  0 -1  0 -1  0 -1  0  0  0  0  0]\n",
                        " [-1  0 -1  0 -1 -1  0 -1 -1 -1  0 -1 -1  0 -1 -1  0]\n",
                        " [-1  0  0 -1  0  0  0  0  0  0 -1  0 -1 -1 -1 -1  0]\n",
                        " [ 0 -1 -1  0  0  0  0  0  0 -1 -1  0 -1  0 -1  0 -1]\n",
                        " [ 0 -1  0 -1 -1  0 -1  0 -1 -1 -1 -1  0  0 -1 -1  0]\n",
                        " [ 0 -1  0 -1 -1 -1  0 -1 -1 -1 -1  0 -1 -1  0 -1 -1]\n",
                        " [ 0  0 -1 -1 -1  0  0 -1 -1  0  0  0  0  0 -1  0  0]\n",
                        " [-1 -1  0  0 -1  0  0  0 -1  0  0  0 -1  0  0  0 -1]\n",
                        " [-1 -1 -1 -1  0  0  0  0  0  0 -1  0  0 -1  0 -1 -1]\n",
                        " [ 0  0 -1 -1 -1 -1 -1  0  0  0 -1 -1 -1 -1 -1 -1 -1]]\n",
                        "===Answer===\n",
                        "-373.0\n",
                        "[[-1.        ]\n",
                        " [-1.        ]\n",
                        " [-2.        ]\n",
                        " [-1.5       ]\n",
                        " [ 1.33333333]\n",
                        " [-1.5       ]\n",
                        " [-1.        ]\n",
                        " [-1.        ]\n",
                        " [-1.5       ]\n",
                        " [-2.        ]\n",
                        " [-2.        ]\n",
                        " [ 0.75      ]\n",
                        " [ 3.33333333]\n",
                        " [ 1.51111111]\n",
                        " [-0.55882353]\n",
                        " [ 1.71052632]\n",
                        " [ 2.86923077]]\n",
                        "===Expected SOLUTION===\n",
                        "det: -373.0000000000003\n",
                        "[[-1.        ]\n",
                        " [-1.        ]\n",
                        " [-2.        ]\n",
                        " [-1.5       ]\n",
                        " [ 1.33333333]\n",
                        " [-1.5       ]\n",
                        " [-1.        ]\n",
                        " [ 1.        ]\n",
                        " [ 1.5       ]\n",
                        " [-2.        ]\n",
                        " [-2.5       ]\n",
                        " [ 0.66666667]\n",
                        " [ 2.5       ]\n",
                        " [ 2.48      ]\n",
                        " [ 0.70430108]\n",
                        " [ 1.35114504]\n",
                        " [ 2.10734463]]\n"
                    ]
                }
            ],
            "source": [
                "inputs = json_tricks.load('inputs/inputs.json')\n",
                "sol = json_tricks.load('.solution.json')\n",
                "\n",
                "results = {'results': []}\n",
                "for args in inputs['inputs']:\n",
                "    res = determinant_fast(**args)\n",
                "    results['results'].append(res)\n",
                "\n",
                "json_tricks.dump(results, '.answer.json')\n",
                "\n",
                "\n",
                "test = 2\n",
                "res = determinant_fast(**inputs['inputs'][test])\n",
                "print(f\"det from np.linalg.det test:{test}:\",{np.linalg.det(inputs['inputs'][test]['A'])})\n",
                "\n",
                "print(\"Matrix A\")\n",
                "print(inputs['inputs'][test]['A'])\n",
                "\n",
                "print(\"===Answer===\")\n",
                "print(res[0])\n",
                "print(res[1].reshape(-1, 1))\n",
                "\n",
                "## debug ##\n",
                "print(\"===Expected SOLUTION===\")\n",
                "print(\"det:\", sol['results'][test][0])\n",
                "print(sol['results'][test][1].reshape(-1, 1))"
            ]
        }
    ],
    "metadata": {
        "kernelspec": {
            "display_name": "Python 3",
            "language": "python",
            "name": "python3"
        },
        "language_info": {
            "codemirror_mode": {
                "name": "ipython",
                "version": 3
            },
            "file_extension": ".py",
            "mimetype": "text/x-python",
            "name": "python",
            "nbconvert_exporter": "python",
            "pygments_lexer": "ipython3",
            "version": "3.11.13"
        }
    },
    "nbformat": 4,
    "nbformat_minor": 2
}
