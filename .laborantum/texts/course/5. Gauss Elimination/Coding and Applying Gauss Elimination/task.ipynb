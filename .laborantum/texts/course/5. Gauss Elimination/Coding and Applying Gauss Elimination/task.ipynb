{
    "cells": [
        {
            "cell_type": "markdown",
            "metadata": {},
            "source": [
                "# Algorithms with Matrices\n",
                "\n",
                "In this practice we are going to implement algorithms to work with matrices:\n",
                "- solving simple equations\n",
                "- inverting matrices\n",
                "- decomposing matrices to LU decompositions\n",
                "\n",
                "For these activities Gauss Elimination is our main tool. We will only work with matrices that do not require swapping the rows.\n",
                "\n",
                "We will also perform QR decomposition using Gramm-Schmidt orthonormalization method"
            ]
        },
        {
            "cell_type": "code",
            "execution_count": 78,
            "metadata": {},
            "outputs": [],
            "source": [
                "import numpy as np\n",
                "import lovely_numpy as ln\n",
                "import json_tricks \n",
                "import matplotlib.pyplot as plt"
            ]
        },
        {
            "cell_type": "code",
            "execution_count": 79,
            "metadata": {},
            "outputs": [],
            "source": [
                "np.random.seed(0)\n",
                "\n",
                "\n",
                "inputs = json_tricks.load('inputs/inputs.json')\n",
                "answer = {}"
            ]
        },
        {
            "cell_type": "code",
            "execution_count": 80,
            "metadata": {},
            "outputs": [
                {
                    "name": "stdout",
                    "output_type": "stream",
                    "text": [
                        "30\n"
                    ]
                }
            ],
            "source": [
                "print(len(inputs['nullspace_cases']))"
            ]
        },
        {
            "cell_type": "markdown",
            "metadata": {},
            "source": [
                "# Task 1. Implement Gauss Elimination Stage I\n",
                "\n",
                "## 1.1 Gauss Elimination -- non-pivoted case\n",
                "Firstly, your task here is to create an algorithm that will perfrom mutations of matrix $A$ that transform it to Upper-Triangular form $U$.\n",
                "\n",
                "$$\n",
                "\\begin{bmatrix}\n",
                "a_{11} & a_{12} & \\dots & a_{1N} \\\\\n",
                "a_{21} & a_{22} & \\dots & a_{2N} \\\\\n",
                "\\vdots & \\vdots & \\ddots & \\vdots \\\\\n",
                "a_{N1} & a_{N2} & \\dots & a_{NN}\n",
                "\\end{bmatrix}\n",
                "\n",
                "\\rightarrow\n",
                "\n",
                "\\begin{bmatrix}\n",
                "1 & a_{12}^* & \\dots & a_{1N}^* \\\\\n",
                "0 & 1 & \\dots & a_{2N}^* \\\\\n",
                "\\vdots & \\vdots & \\ddots & \\vdots \\\\\n",
                "0 & 0 & \\dots & 1\n",
                "\\end{bmatrix}\n",
                "$$\n",
                "\n",
                "Note that there should be unit diagonal after the 1 stage.\n",
                "\n",
                "The same mutations for rows as you do to the matrix $A$ should be done to the rows of matrix $B$. \n",
                "\n",
                "What can matrix $B$ be? It can be:\n",
                "- vector of right hand side $b$ (in that case we are solving the System of Linear Equations)\n",
                "- identity matrix (in that case we invert matrix)\n",
                "- actually, Stage I can be used as Stage II, and in that case right hand matrix can be some matrix from Stage I\n",
                "\n",
                "## 1.2 Add pivoting\n",
                "\n",
                "There is a flag `pivoting`. In case this flag is turned on, the Gauss Elimination should swap the current row with \n",
                "the row with maximal absolute value in the current column.\n",
                "\n",
                "You should also perform the same swap with the matrix $B$ and also you should keep track of swaps with the matrix\n",
                "$P$.\n",
                "\n",
                "## 1.3 Account for the cases with null-space\n",
                "\n",
                "In that case once in a while you will not be able to perform pivoting to evade the division-by-zero. In that case you\n",
                "will find out that the diagonal element and all the elements below are all together less than some threshold value.\n",
                "\n",
                "In that case just continue to the next column.\n",
                "\n",
                "Keep in mind though that you have to advance only the column index, but the row index should not be increased. That\n",
                "means that now your pivot is off the main diagonal.\n"
            ]
        },
        {
            "cell_type": "code",
            "execution_count": 81,
            "metadata": {},
            "outputs": [],
            "source": [
                "def gauss_elimination(A, B, pivoting=False):\n",
                "    A = A.copy().astype(float)\n",
                "    B = B.copy().astype(float)\n",
                "\n",
                "    n_rows, n_cols = A.shape\n",
                "    P = np.eye(n_rows)  \n",
                "\n",
                "    # solve SLEs\n",
                "    if B.shape[0] == n_rows:\n",
                "        A = np.hstack((A, B.reshape(-1, 1)))\n",
                "\n",
                "    # find inverse\n",
                "    if B.shape == (n_rows, n_cols):\n",
                "        A = np.hstack((A, B))\n",
                "\n",
                "    if pivoting:\n",
                "        for i in range(n_rows):\n",
                "            max_row = np.argmax(np.abs(A[i:, i])) + i\n",
                "            if max_row != i:\n",
                "                A[[i, max_row], :] = A[[max_row, i], :]\n",
                "                P[[i, max_row], :] = P[[max_row, i], :]\n",
                "    else:\n",
                "        for i in range(n_rows):\n",
                "            max_row = i\n",
                "            for j in range(i + 1, n_rows):\n",
                "                if abs(A[j, i]) > abs(A[max_row, i]):\n",
                "                    max_row = j\n",
                "            if max_row != i:\n",
                "                A[[i, max_row], :] = A[[max_row, i], :]\n",
                "                P[[i, max_row], :] = P[[max_row, i], :]\n",
                "            \n",
                "\n",
                "    return P, A, B\n"
            ]
        },
        {
            "cell_type": "code",
            "execution_count": 82,
            "metadata": {},
            "outputs": [],
            "source": [
                "answer['gauss_elimination_simple_cases'] = [\n",
                "    gauss_elimination(A=input['A'], B=input['b'], pivoting=False) for input in inputs['simple_cases']\n",
                "]\n",
                "\n",
                "answer['gauss_elimination_pivoting_cases'] = [\n",
                "    gauss_elimination(A=input['A'], B=input['b'], pivoting=True) for input in inputs['simple_cases']\n",
                "]\n",
                "\n",
                "answer['gauss_elimination_nullspace_cases'] = [\n",
                "    gauss_elimination(A=input['A'], B=input['b'], pivoting=True) for input in inputs['nullspace_cases']\n",
                "]"
            ]
        },
        {
            "cell_type": "markdown",
            "metadata": {},
            "source": [
                "# Task 2: Solve System of Linear Equations (SLE)\n",
                "\n",
                "Now we have the engine to solve a lot of things. We will start with solving Systems of Linear Equations (SLEs).\n",
                "\n",
                "For the SLE given by matrix $A$ and right-hand vector $\\mathbf b$, implement a function that solves this SLE.\n",
                "\n",
                "You will need to use twice Gauss Elimination Algorithm\n",
                "\n",
                "1. Apply it to matrix $A$ and to vector $\\mathbf b$ as matrix $B$ as Gauss Elimintaion I stage\n",
                "2. For Gauss Elimination II stage you can use the same algorithm by just applying it to reversed matrix \n",
                "\n",
                "    (by enumerating equations and variables in reversed order, we can rewrite the matrix $U$ in low-triangle form $L$). \n",
                "\n",
                "    Something has to be done to the right-hand side vector too\n",
                "3. Form the answer from output of Gauss Elimination Stage II"
            ]
        },
        {
            "cell_type": "code",
            "execution_count": 83,
            "metadata": {},
            "outputs": [],
            "source": [
                "def solve_equation(A, b):\n",
                "    P, A, b = gauss_elimination(A, b, pivoting=True)\n",
                "    n = A.shape[0]\n",
                "    x = np.zeros(n)\n",
                "    for i in range(n - 1, -1, -1):\n",
                "        x[i] = b[i]\n",
                "        for j in range(i + 1, n):\n",
                "            x[i] -= A[i, j] * x[j]\n",
                "        x[i] /= A[i, i]\n",
                "\n",
                "    return x"
            ]
        },
        {
            "cell_type": "markdown",
            "metadata": {},
            "source": [
                "You can always check that your solution is correct by subtracting\n",
                "\n",
                "$A \\mathbf x - \\mathbf b$, which should give you $\\mathbf 0$\n",
                "\n",
                "By the way, matrix product, such as $A \\mathbf x$ in numpy is done using `A @ x` operation"
            ]
        },
        {
            "cell_type": "code",
            "execution_count": 84,
            "metadata": {},
            "outputs": [
                {
                    "name": "stdout",
                    "output_type": "stream",
                    "text": [
                        "=== SIMPLE CASES ===\n",
                        "3359.0\n",
                        "498.83100198412694\n",
                        "118.9\n",
                        "2827.2102040816317\n",
                        "36.5\n",
                        "28.0\n",
                        "nan\n",
                        "12.75\n",
                        "539.7511574074074\n",
                        "4065.4636363636364\n",
                        "6.0\n",
                        "147.72592592592594\n",
                        "nan\n",
                        "432.425925925926\n",
                        "nan\n",
                        "10.0\n",
                        "0.0\n",
                        "395.3333333333333\n",
                        "4.0\n",
                        "336.5\n",
                        "nan\n",
                        "6.0\n",
                        "1.3333333333333321\n",
                        "846.3604910714284\n",
                        "40.33333333333333\n",
                        "nan\n",
                        "5.0\n",
                        "646.8636363636363\n",
                        "3671.7853535353543\n",
                        "4.666666666666666\n",
                        "=== PIVOTING CASES ===\n",
                        "nan\n",
                        "1010.8848039215691\n",
                        "1249.9\n",
                        "nan\n",
                        "0.0\n",
                        "807.3511904761904\n",
                        "1722.4582739791076\n",
                        "269.58333333333337\n",
                        "16176.0\n",
                        "nan\n",
                        "291.1851851851852\n",
                        "144.0\n",
                        "887.296875\n",
                        "13129.309941520467\n",
                        "260.5683760683761\n",
                        "4219.503042117078\n",
                        "4440.487989472649\n",
                        "0.0\n",
                        "nan\n",
                        "2455.4989976631914\n",
                        "2743.9259999999995\n",
                        "27720.497835888258\n",
                        "17539.64888888889\n",
                        "nan\n",
                        "399.4\n",
                        "193.52380952380955\n",
                        "nan\n",
                        "788.4444444444445\n",
                        "1770.605048148148\n",
                        "nan\n"
                    ]
                },
                {
                    "name": "stderr",
                    "output_type": "stream",
                    "text": [
                        "/tmp/ipykernel_11082/2294918992.py:9: RuntimeWarning: divide by zero encountered in scalar divide\n",
                        "  x[i] /= A[i, i]\n",
                        "/tmp/ipykernel_11082/2294918992.py:8: RuntimeWarning: invalid value encountered in scalar multiply\n",
                        "  x[i] -= A[i, j] * x[j]\n",
                        "/tmp/ipykernel_11082/2294918992.py:8: RuntimeWarning: invalid value encountered in scalar subtract\n",
                        "  x[i] -= A[i, j] * x[j]\n",
                        "/tmp/ipykernel_11082/728041831.py:12: RuntimeWarning: invalid value encountered in matmul\n",
                        "  print(np.abs(inputs['simple_cases'][index]['A'] @ answer['solutions_simple_cases'][index] - inputs['simple_cases'][index]['b']).sum())\n",
                        "/tmp/ipykernel_11082/728041831.py:16: RuntimeWarning: invalid value encountered in matmul\n",
                        "  print(np.abs(inputs['pivoting_cases'][index]['A'] @ answer['solution_pivoting_cases'][index] - inputs['pivoting_cases'][index]['b']).sum())\n"
                    ]
                }
            ],
            "source": [
                "answer['solutions_simple_cases'] = [\n",
                "    solve_equation(**input) for input in inputs['simple_cases']\n",
                "]\n",
                "\n",
                "answer['solution_pivoting_cases'] = [\n",
                "    solve_equation(**input) for input in inputs['pivoting_cases']\n",
                "]\n",
                "\n",
                "# This should be close to zero\n",
                "print(\"=== SIMPLE CASES ===\")\n",
                "for index in range(len(inputs['simple_cases'])):\n",
                "    print(np.abs(inputs['simple_cases'][index]['A'] @ answer['solutions_simple_cases'][index] - inputs['simple_cases'][index]['b']).sum())\n",
                "\n",
                "print(\"=== PIVOTING CASES ===\")\n",
                "for index in range(len(inputs['pivoting_cases'])):\n",
                "    print(np.abs(inputs['pivoting_cases'][index]['A'] @ answer['solution_pivoting_cases'][index] - inputs['pivoting_cases'][index]['b']).sum())"
            ]
        },
        {
            "cell_type": "markdown",
            "metadata": {},
            "source": [
                "# Task 3: Find inverse of $A$\n",
                "\n",
                "Use the same approach as with solving SLE, but now instead of $\\mathbf b$ for right hand side, insert corresponding Identity matrix $I$ as input into Gaussian Elimination algorithm\n",
                "\n",
                "Identitiy matrix of size $N \\times N$ is built using `numpy.eye(N)` "
            ]
        },
        {
            "cell_type": "code",
            "execution_count": 85,
            "metadata": {},
            "outputs": [],
            "source": [
                "def find_inverse(A):\n",
                "    res = None\n",
                "    ## YOUR CODE HERE\n",
                "    # --placeholder start--\n",
                "    P1, A1, B1 = gauss_elimination(A, np.eye(A.shape[0]), pivoting=True)\n",
                "    P2, A2, B2 = gauss_elimination(A1[::-1, ::-1], B1[::-1, ::-1], pivoting=False)\n",
                "    res = B2[::-1, ::-1]\n",
                "    # --placeholder end--\n",
                "    return res"
            ]
        },
        {
            "cell_type": "markdown",
            "metadata": {},
            "source": [
                "You can always check that the matrix that you have found is indeed inverse to $A$ as $A^{-1} A = I$"
            ]
        },
        {
            "cell_type": "code",
            "execution_count": 86,
            "metadata": {},
            "outputs": [
                {
                    "ename": "ValueError",
                    "evalue": "all the input array dimensions except for the concatenation axis must match exactly, but along dimension 0, the array at index 0 has size 6 and the array at index 1 has size 36",
                    "output_type": "error",
                    "traceback": [
                        "\u001b[31m---------------------------------------------------------------------------\u001b[39m",
                        "\u001b[31mValueError\u001b[39m                                Traceback (most recent call last)",
                        "\u001b[36mCell\u001b[39m\u001b[36m \u001b[39m\u001b[32mIn[86]\u001b[39m\u001b[32m, line 1\u001b[39m\n\u001b[32m----> \u001b[39m\u001b[32m1\u001b[39m answer[\u001b[33m'\u001b[39m\u001b[33msimple_inverses\u001b[39m\u001b[33m'\u001b[39m] = \u001b[43m[\u001b[49m\n\u001b[32m      2\u001b[39m \u001b[43m    \u001b[49m\u001b[43mfind_inverse\u001b[49m\u001b[43m(\u001b[49m\u001b[38;5;28;43minput\u001b[39;49m\u001b[43m[\u001b[49m\u001b[33;43m'\u001b[39;49m\u001b[33;43mA\u001b[39;49m\u001b[33;43m'\u001b[39;49m\u001b[43m]\u001b[49m\u001b[43m)\u001b[49m\u001b[43m \u001b[49m\u001b[38;5;28;43;01mfor\u001b[39;49;00m\u001b[43m \u001b[49m\u001b[38;5;28;43minput\u001b[39;49m\u001b[43m \u001b[49m\u001b[38;5;129;43;01min\u001b[39;49;00m\u001b[43m \u001b[49m\u001b[43minputs\u001b[49m\u001b[43m[\u001b[49m\u001b[33;43m'\u001b[39;49m\u001b[33;43msimple_cases\u001b[39;49m\u001b[33;43m'\u001b[39;49m\u001b[43m]\u001b[49m\n\u001b[32m      3\u001b[39m \u001b[43m]\u001b[49m\n\u001b[32m      5\u001b[39m answer[\u001b[33m'\u001b[39m\u001b[33mpivoting_inverses\u001b[39m\u001b[33m'\u001b[39m] = [\n\u001b[32m      6\u001b[39m     find_inverse(\u001b[38;5;28minput\u001b[39m[\u001b[33m'\u001b[39m\u001b[33mA\u001b[39m\u001b[33m'\u001b[39m]) \u001b[38;5;28;01mfor\u001b[39;00m \u001b[38;5;28minput\u001b[39m \u001b[38;5;129;01min\u001b[39;00m inputs[\u001b[33m'\u001b[39m\u001b[33mpivoting_cases\u001b[39m\u001b[33m'\u001b[39m]\n\u001b[32m      7\u001b[39m ]\n\u001b[32m      9\u001b[39m \u001b[38;5;66;03m# This should be I\u001b[39;00m\n",
                        "\u001b[36mCell\u001b[39m\u001b[36m \u001b[39m\u001b[32mIn[86]\u001b[39m\u001b[32m, line 2\u001b[39m, in \u001b[36m<listcomp>\u001b[39m\u001b[34m(.0)\u001b[39m\n\u001b[32m      1\u001b[39m answer[\u001b[33m'\u001b[39m\u001b[33msimple_inverses\u001b[39m\u001b[33m'\u001b[39m] = [\n\u001b[32m----> \u001b[39m\u001b[32m2\u001b[39m     \u001b[43mfind_inverse\u001b[49m\u001b[43m(\u001b[49m\u001b[38;5;28;43minput\u001b[39;49m\u001b[43m[\u001b[49m\u001b[33;43m'\u001b[39;49m\u001b[33;43mA\u001b[39;49m\u001b[33;43m'\u001b[39;49m\u001b[43m]\u001b[49m\u001b[43m)\u001b[49m \u001b[38;5;28;01mfor\u001b[39;00m \u001b[38;5;28minput\u001b[39m \u001b[38;5;129;01min\u001b[39;00m inputs[\u001b[33m'\u001b[39m\u001b[33msimple_cases\u001b[39m\u001b[33m'\u001b[39m]\n\u001b[32m      3\u001b[39m ]\n\u001b[32m      5\u001b[39m answer[\u001b[33m'\u001b[39m\u001b[33mpivoting_inverses\u001b[39m\u001b[33m'\u001b[39m] = [\n\u001b[32m      6\u001b[39m     find_inverse(\u001b[38;5;28minput\u001b[39m[\u001b[33m'\u001b[39m\u001b[33mA\u001b[39m\u001b[33m'\u001b[39m]) \u001b[38;5;28;01mfor\u001b[39;00m \u001b[38;5;28minput\u001b[39m \u001b[38;5;129;01min\u001b[39;00m inputs[\u001b[33m'\u001b[39m\u001b[33mpivoting_cases\u001b[39m\u001b[33m'\u001b[39m]\n\u001b[32m      7\u001b[39m ]\n\u001b[32m      9\u001b[39m \u001b[38;5;66;03m# This should be I\u001b[39;00m\n",
                        "\u001b[36mCell\u001b[39m\u001b[36m \u001b[39m\u001b[32mIn[85]\u001b[39m\u001b[32m, line 5\u001b[39m, in \u001b[36mfind_inverse\u001b[39m\u001b[34m(A)\u001b[39m\n\u001b[32m      2\u001b[39m res = \u001b[38;5;28;01mNone\u001b[39;00m\n\u001b[32m      3\u001b[39m \u001b[38;5;66;03m## YOUR CODE HERE\u001b[39;00m\n\u001b[32m      4\u001b[39m \u001b[38;5;66;03m# --placeholder start--\u001b[39;00m\n\u001b[32m----> \u001b[39m\u001b[32m5\u001b[39m P1, A1, B1 = \u001b[43mgauss_elimination\u001b[49m\u001b[43m(\u001b[49m\u001b[43mA\u001b[49m\u001b[43m,\u001b[49m\u001b[43m \u001b[49m\u001b[43mnp\u001b[49m\u001b[43m.\u001b[49m\u001b[43meye\u001b[49m\u001b[43m(\u001b[49m\u001b[43mA\u001b[49m\u001b[43m.\u001b[49m\u001b[43mshape\u001b[49m\u001b[43m[\u001b[49m\u001b[32;43m0\u001b[39;49m\u001b[43m]\u001b[49m\u001b[43m)\u001b[49m\u001b[43m,\u001b[49m\u001b[43m \u001b[49m\u001b[43mpivoting\u001b[49m\u001b[43m=\u001b[49m\u001b[38;5;28;43;01mTrue\u001b[39;49;00m\u001b[43m)\u001b[49m\n\u001b[32m      6\u001b[39m P2, A2, B2 = gauss_elimination(A1[::-\u001b[32m1\u001b[39m, ::-\u001b[32m1\u001b[39m], B1[::-\u001b[32m1\u001b[39m, ::-\u001b[32m1\u001b[39m], pivoting=\u001b[38;5;28;01mFalse\u001b[39;00m)\n\u001b[32m      7\u001b[39m res = B2[::-\u001b[32m1\u001b[39m, ::-\u001b[32m1\u001b[39m]\n",
                        "\u001b[36mCell\u001b[39m\u001b[36m \u001b[39m\u001b[32mIn[81]\u001b[39m\u001b[32m, line 10\u001b[39m, in \u001b[36mgauss_elimination\u001b[39m\u001b[34m(A, B, pivoting)\u001b[39m\n\u001b[32m      8\u001b[39m \u001b[38;5;66;03m# solve SLEs\u001b[39;00m\n\u001b[32m      9\u001b[39m \u001b[38;5;28;01mif\u001b[39;00m B.shape[\u001b[32m0\u001b[39m] == n_rows:\n\u001b[32m---> \u001b[39m\u001b[32m10\u001b[39m     A = \u001b[43mnp\u001b[49m\u001b[43m.\u001b[49m\u001b[43mhstack\u001b[49m\u001b[43m(\u001b[49m\u001b[43m(\u001b[49m\u001b[43mA\u001b[49m\u001b[43m,\u001b[49m\u001b[43m \u001b[49m\u001b[43mB\u001b[49m\u001b[43m.\u001b[49m\u001b[43mreshape\u001b[49m\u001b[43m(\u001b[49m\u001b[43m-\u001b[49m\u001b[32;43m1\u001b[39;49m\u001b[43m,\u001b[49m\u001b[43m \u001b[49m\u001b[32;43m1\u001b[39;49m\u001b[43m)\u001b[49m\u001b[43m)\u001b[49m\u001b[43m)\u001b[49m\n\u001b[32m     12\u001b[39m \u001b[38;5;66;03m# find inverse\u001b[39;00m\n\u001b[32m     13\u001b[39m \u001b[38;5;28;01mif\u001b[39;00m B.shape == (n_rows, n_cols):\n",
                        "\u001b[36mFile \u001b[39m\u001b[32m/usr/local/lib/python3.11/site-packages/numpy/_core/shape_base.py:364\u001b[39m, in \u001b[36mhstack\u001b[39m\u001b[34m(tup, dtype, casting)\u001b[39m\n\u001b[32m    362\u001b[39m     \u001b[38;5;28;01mreturn\u001b[39;00m _nx.concatenate(arrs, \u001b[32m0\u001b[39m, dtype=dtype, casting=casting)\n\u001b[32m    363\u001b[39m \u001b[38;5;28;01melse\u001b[39;00m:\n\u001b[32m--> \u001b[39m\u001b[32m364\u001b[39m     \u001b[38;5;28;01mreturn\u001b[39;00m \u001b[43m_nx\u001b[49m\u001b[43m.\u001b[49m\u001b[43mconcatenate\u001b[49m\u001b[43m(\u001b[49m\u001b[43marrs\u001b[49m\u001b[43m,\u001b[49m\u001b[43m \u001b[49m\u001b[32;43m1\u001b[39;49m\u001b[43m,\u001b[49m\u001b[43m \u001b[49m\u001b[43mdtype\u001b[49m\u001b[43m=\u001b[49m\u001b[43mdtype\u001b[49m\u001b[43m,\u001b[49m\u001b[43m \u001b[49m\u001b[43mcasting\u001b[49m\u001b[43m=\u001b[49m\u001b[43mcasting\u001b[49m\u001b[43m)\u001b[49m\n",
                        "\u001b[31mValueError\u001b[39m: all the input array dimensions except for the concatenation axis must match exactly, but along dimension 0, the array at index 0 has size 6 and the array at index 1 has size 36"
                    ]
                }
            ],
            "source": [
                "answer['simple_inverses'] = [\n",
                "    find_inverse(input['A']) for input in inputs['simple_cases']\n",
                "]\n",
                "\n",
                "answer['pivoting_inverses'] = [\n",
                "    find_inverse(input['A']) for input in inputs['pivoting_cases']\n",
                "]\n",
                "\n",
                "# This should be I\n",
                "print(\"=== SIMPLE CASES ===\")\n",
                "for index in range(len(inputs['simple_cases'])):\n",
                "    print(answer['simple_inverses'][0] @ inputs['simple_cases'][0]['A'])\n",
                "\n",
                "print(\"=== PIVOTING CASES ===\")\n",
                "for index in range(len(inputs['pivoting_cases'])):\n",
                "    print(answer['pivoting_inverses'][0] @ inputs['pivoting_cases'][0]['A'])"
            ]
        },
        {
            "cell_type": "markdown",
            "metadata": {},
            "source": [
                "# Task 4: LU decomposition\n",
                "\n",
                "You can find LU decomposition of the matrix $A$ using Gauss Elimination. Again, it is done using 2 stages of Gauss Elimination:\n",
                "\n",
                "1. $A \\mathbf x = I \\mathbf b \\rightarrow U \\mathbf x = L^* \\mathbf b$\n",
                "\n",
                "2. $I U \\mathbf x = L^* \\mathbf b \\rightarrow L U \\mathbf x = I \\mathbf b$\n",
                "\n",
                "But in case you are doing pivoted version, it is a little more tricky. You have to modify somehow the matrix $L$\n",
                "after the first stage of Gauss Elimination."
            ]
        },
        {
            "cell_type": "code",
            "execution_count": null,
            "metadata": {},
            "outputs": [],
            "source": [
                "def find_plu(A, pivoting=True):\n",
                "    A = A.copy().astype(float)\n",
                "    n = A.shape[0]\n",
                "\n",
                "    # Step 1: Get P, U, and L_inv using pivoted Gauss elimination\n",
                "    # The third output is L_inv: inverse of lower triangular matrix L\n",
                "    P, U, L_inv = gauss_elimination(A, np.eye(n), pivoting=pivoting)\n",
                "\n",
                "    L_inv = L_inv @ P.T\n",
                "    # Step 2: Recover L by inverting L_inv via transposition of gauss_elimination result\n",
                "    # Note: We can use gauss_elimination to \"invert\" L_inv:\n",
                "    _, _, L = gauss_elimination(L_inv, np.eye(n), pivoting=False)\n",
                "\n",
                "    return P.T, L, U"
            ]
        },
        {
            "cell_type": "markdown",
            "metadata": {},
            "source": [
                "You can always check that your LU decomposition works as\n",
                "\n",
                "$LU - A = O$ (a zero matrix)"
            ]
        },
        {
            "cell_type": "code",
            "execution_count": null,
            "metadata": {},
            "outputs": [],
            "source": [
                "answer['simple_PLU'] = [\n",
                "    find_plu(input['A'], pivoting=False) for input in inputs['simple_cases']\n",
                "]\n",
                "\n",
                "answer['pivoting_PLU'] = [\n",
                "    find_plu(input['A'], pivoting=True) for input in inputs['pivoting_cases']\n",
                "]\n",
                "\n",
                "answer['nullspace_PLU'] = [\n",
                "    find_plu(input['A'], pivoting=True) for input in inputs['nullspace_cases']\n",
                "]\n",
                "\n",
                "\n",
                "# This should be close to zero\n",
                "print(\"=== SIMPLE CASES ===\")\n",
                "for index in range(len(inputs['simple_cases'])):\n",
                "    print(np.abs(answer['simple_PLU'][index][0] @ answer['simple_PLU'][index][1] @ answer['simple_PLU'][index][2] - inputs['simple_cases'][index]['A']).sum())\n",
                "\n",
                "print(\"=== PIVOTING CASES ===\")\n",
                "for index in range(len(inputs['pivoting_cases'])):\n",
                "    print(np.abs(answer['pivoting_PLU'][index][0] @ answer['pivoting_PLU'][index][1] @ answer['pivoting_PLU'][index][2] - inputs['pivoting_cases'][index]['A']).sum())\n",
                "\n",
                "print(\"=== NULLSPACE CASES ===\")\n",
                "for index in range(len(inputs['nullspace_cases'])):\n",
                "    print(np.abs(answer['nullspace_PLU'][index][0] @ answer['nullspace_PLU'][index][1] @ answer['nullspace_PLU'][index][2] - inputs['nullspace_cases'][index]['A']).sum())"
            ]
        },
        {
            "cell_type": "markdown",
            "metadata": {},
            "source": [
                "# Finding NullSpace"
            ]
        },
        {
            "cell_type": "markdown",
            "metadata": {},
            "source": [
                "Now find null-space of the matrix using Gauss Elimination. To do so, analyze the matrix $U$ that appears after Gauss Elimination. Observing this matrix\n",
                "it is easy to write out the vectors of Null Space.\n",
                "\n",
                "Note that variable `eps` stands for tolerance. If a value deviates from 0 more than on `eps`, we consider it to be different from `0`."
            ]
        },
        {
            "cell_type": "code",
            "execution_count": null,
            "metadata": {},
            "outputs": [],
            "source": [
                "def find_null_space(A, pivoting=True, eps=1e-12):\n",
                "    \"\"\"\n",
                "    Return an (n x k) matrix whose columns span Null(A), i.e. { x : A x = 0 }.\n",
                "    \"\"\"\n",
                "    A = A.astype(float)\n",
                "\n",
                "    ## YOUR CODE HERE ##\n",
                "\n",
                "    return Z"
            ]
        },
        {
            "cell_type": "code",
            "execution_count": null,
            "metadata": {},
            "outputs": [],
            "source": [
                "answer['nullspace'] = [\n",
                "    find_null_space(input['A'], pivoting=True) for input in inputs['nullspace_cases']\n",
                "]\n",
                "\n",
                "for index in range(len(answer['nullspace'])):\n",
                "    print(inputs['nullspace_cases'][index]['A'] @ answer['nullspace'][index])"
            ]
        },
        {
            "cell_type": "markdown",
            "metadata": {},
            "source": [
                "# QR decomposition\n",
                "\n",
                "Now again we will consider matrix $A^T$ in context of SLE:\n",
                "\n",
                "$A^T \\mathbf x = I \\mathbf b$\n",
                "\n",
                "Out of matrix $A$ we can make an orthonormal matrix $Q$ by orthonoramlizing the rows, this process will turn the $I$ matrix on the right to lower-triangular matrix $L^*$:\n",
                "\n",
                "$A^T \\mathbf x = I \\mathbf b \\rightarrow Q^T \\mathbf x = L^* \\mathbf b$\n",
                "\n",
                "After that we should invert matrix $L^*$ and we will get:\n",
                "\n",
                "$I Q^T \\mathbf x = L^* \\mathbf b \\rightarrow L Q^T \\mathbf x = \\mathbf b$\n",
                "\n",
                "If we transpose that matrix, we will get  QR decomposition of matrix $A$:\n",
                "\n",
                "$A = Q R,$\n",
                "\n",
                "where $R$ is upper-triangular matrix.\n",
                "\n",
                "The task is to:\n",
                "1. Implement Gramm-Schmidt orthonormalization procedure\n",
                "2. Combining Gramm-Schmidt algorithm and Gaussian Algorithm, implement QR decomposition"
            ]
        },
        {
            "cell_type": "markdown",
            "metadata": {},
            "source": [
                "# Task 5: Gramm-Schmidt Algorithm for Matrices\n",
                "\n",
                "Implement Gramm-Schmidt process for **rows** of matrix $A$ (and do the same transforms to matrix $B$)"
            ]
        },
        {
            "cell_type": "code",
            "execution_count": null,
            "metadata": {},
            "outputs": [],
            "source": [
                "def gramm_schmidt(A, B):\n",
                "    A = A.copy().astype(float)\n",
                "    B = B.copy().astype(float)\n",
                "    ## YOUR CODE HERE\n",
                "    # --placeholder start--\n",
                "    for i in range(A.shape[1]):\n",
                "        for j in range(i):\n",
                "            factor = np.dot(A[i, :], A[j, :])\n",
                "            A[i, :] -= factor * A[j, :]\n",
                "            B[i, :] -= factor * B[j, :]\n",
                "        factor = np.linalg.norm(A[i, :])\n",
                "        A[i, :] /= factor\n",
                "        B[i, :] /= factor\n",
                "    # --placeholder end--\n",
                "    return A, B"
            ]
        },
        {
            "cell_type": "code",
            "execution_count": null,
            "metadata": {},
            "outputs": [],
            "source": [
                "answer['gramm_schmidt_simple_cases'] = [\n",
                "    gramm_schmidt(input['A'], np.eye(input['A'].shape[0])) for input in inputs['simple_cases']\n",
                "]\n",
                "\n",
                "answer['gramm_schmidt_pivoting_cases'] = [\n",
                "    gramm_schmidt(input['A'], np.eye(input['A'].shape[0])) for input in inputs['pivoting_cases']\n",
                "]\n",
                "\n",
                "# answer['gramm_schmidt_nullspace_cases'] = [\n",
                "    # gramm_schmidt(input['A'], np.eye(input['A'].shape[0])) for input in inputs['nullspace_cases']\n",
                "# ]\n",
                "\n",
                "print(\"===== Should be close to 1s: =====\")\n",
                "print((answer['gramm_schmidt_simple_cases'][0][0] ** 2).sum(axis=1))\n",
                "print()\n",
                "print(\"===== Should be close to L: =====\")\n",
                "print(answer['gramm_schmidt_simple_cases'][0][1])"
            ]
        },
        {
            "cell_type": "markdown",
            "metadata": {},
            "source": [
                "# Task 6: QR decomposition"
            ]
        },
        {
            "cell_type": "markdown",
            "metadata": {},
            "source": [
                "Implement QR decomposition algorithm. Note that we work on rows on matrix $A$ with our Gauss and Gramm-Schmidt algorithms, but QR decomposition is defined for column matrix "
            ]
        },
        {
            "cell_type": "code",
            "execution_count": null,
            "metadata": {},
            "outputs": [],
            "source": [
                "def find_qr(A):\n",
                "    B = np.eye(A.T.shape[0])\n",
                "    ## YOUR CODE HERE\n",
                "    # --placeholder start--\n",
                "    QT, L1 = gramm_schmidt(A.T, B)\n",
                "    _, I, LT = gauss_elimination(L1, np.eye(A.shape[0]))\n",
                "    Q = QT.T\n",
                "    R = LT.T\n",
                "    # --placeholder end--\n",
                "    return Q, R"
            ]
        },
        {
            "cell_type": "code",
            "execution_count": null,
            "metadata": {},
            "outputs": [],
            "source": [
                "answer['QR_simple_cases'] = [\n",
                "    find_qr(input['A']) for input in inputs['simple_cases']\n",
                "]\n",
                "\n",
                "print(\"===== Should be close to O: =====\")\n",
                "print(answer['QR_simple_cases'][0][0] @ answer['QR_simple_cases'][0][1] - inputs['simple_cases'][0]['A'])"
            ]
        },
        {
            "cell_type": "code",
            "execution_count": null,
            "metadata": {},
            "outputs": [],
            "source": [
                "json_tricks.dump(answer, '.answer.json')"
            ]
        }
    ],
    "metadata": {
        "kernelspec": {
            "display_name": "Python 3",
            "language": "python",
            "name": "python3"
        },
        "language_info": {
            "codemirror_mode": {
                "name": "ipython",
                "version": 3
            },
            "file_extension": ".py",
            "mimetype": "text/x-python",
            "name": "python",
            "nbconvert_exporter": "python",
            "pygments_lexer": "ipython3",
            "version": "3.11.13"
        }
    },
    "nbformat": 4,
    "nbformat_minor": 2
}
