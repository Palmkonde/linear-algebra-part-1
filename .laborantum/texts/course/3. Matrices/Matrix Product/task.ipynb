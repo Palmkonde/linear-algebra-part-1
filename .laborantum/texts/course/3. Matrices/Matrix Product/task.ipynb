{
    "cells": [
        {
            "cell_type": "code",
            "execution_count": 34,
            "id": "acceacb5",
            "metadata": {},
            "outputs": [],
            "source": [
                "import numpy as np\n",
                "import json_tricks\n",
                "answer = {}\n",
                "\n",
                "inputs = json_tricks.load('inputs.json')\n"
            ]
        },
        {
            "cell_type": "markdown",
            "id": "2a65a805",
            "metadata": {},
            "source": [
                "# Matrix Product II\n",
                "\n",
                "$$A_{5 \\times 10} \\  B_{10 \\times 2}\\ C_{2 \\times 30}\\ D_{30 \\times 3}\\ E_{3 \\times 9}$$\n",
                "\n",
                "1. What will be the shape of the resulting matrix?\n",
                "2. How many multiplication of numbers are required at best?"
            ]
        },
        {
            "cell_type": "code",
            "execution_count": 35,
            "id": "70ec671d",
            "metadata": {},
            "outputs": [],
            "source": [
                "answer['task1'] = {\n",
                "    '1': (5, 9),\n",
                "    '2': 424\n",
                "}\n",
                "\n"
            ]
        },
        {
            "cell_type": "markdown",
            "id": "a134c56f",
            "metadata": {},
            "source": [
                "# Numpy expression\n",
                "\n",
                "Using Numpy, write a function that calculates the \n",
                "following expression:\n",
                "\n",
                "$$\\exp(A^T(B + 2C) + 3I) \\mathbf x,$$\n",
                "\n",
                "where $I$ is an identity matrix of the necessary shape."
            ]
        },
        {
            "cell_type": "code",
            "execution_count": null,
            "id": "71c02732",
            "metadata": {},
            "outputs": [],
            "source": [
                "\n",
                "def numpy_expression(A, B, C, x):\n",
                "    N = A.shape[-1]\n",
                "    M = B.shape[-1]\n",
                "    mat = (A.T @ (B + (2 * C))) + (3 * np.eye(N, M))\n",
                "    \n",
                "    res = np.exp(mat) @ x\n",
                "\n",
                "    return res.astype(np.float64)"
            ]
        },
        {
            "cell_type": "code",
            "execution_count": 37,
            "id": "e93e082d",
            "metadata": {},
            "outputs": [
                {
                    "name": "stderr",
                    "output_type": "stream",
                    "text": [
                        "/tmp/ipykernel_5865/1869993749.py:8: RuntimeWarning: overflow encountered in cast\n",
                        "  return res.astype(np.float32)\n"
                    ]
                }
            ],
            "source": [
                "answer['task2'] = []\n",
                "for one_input in inputs['task2']:\n",
                "    answer['task2'].append(numpy_expression(**one_input))\n"
            ]
        },
        {
            "cell_type": "markdown",
            "id": "2aef45b9",
            "metadata": {},
            "source": [
                "# Einstein's Rule\n",
                "\n",
                "In *Tensor Algebra*, a direct generalization of the Linear Algebra to the case of $N$-dimentional tables called *tensors* (normal matrix), the Einstein's rule exists.\n",
                "\n",
                "It works as follows: if you see a duplicating upper and lower index in the formula, that means, this index convolves.\n",
                "\n",
                "For example, the following tensor expression, summation and matrix product are equivalent:\n",
                "\n",
                "$$a_k^l b_l^m = \\sum_{l=1}^L a_k^l b_l^m = AB$$\n",
                "\n",
                "In this notation subscript means row index and superscript means column index.\n",
                "\n",
                "<details>\n",
                "<summary> Note </summary>\n",
                "\n",
                "> [!NOTE]\n",
                "> Also at some point it will be important to know that:\n",
                "> * lower index represents a contravariant dimension of a\n",
                "> tensor\n",
                "> * upper index represents a covariant dimension \n",
                "> of tensor. But let us omit this part for now.\n",
                "\n",
                "</details>\n",
                "\n",
                "# Task\n",
                "\n",
                "Calculate the following expression written using Einstein's \n",
                "rule:\n",
                "\n",
                "$$a_k^m b_m^n c_n^o d_l^k$$"
            ]
        },
        {
            "cell_type": "code",
            "execution_count": 38,
            "id": "3feb6914",
            "metadata": {},
            "outputs": [],
            "source": [
                "def einsteins_rule(A, B, C, D):\n",
                "    res = (D @ (A @ B @ C)) \n",
                "    return res"
            ]
        },
        {
            "cell_type": "code",
            "execution_count": 39,
            "id": "f9cd1e7e",
            "metadata": {},
            "outputs": [],
            "source": [
                "answer['task3'] = []\n",
                "for one_input in inputs['task3']:\n",
                "    answer['task3'].append(einsteins_rule(**one_input))\n",
                "\n",
                "# answer['task3']"
            ]
        },
        {
            "cell_type": "markdown",
            "id": "ad37cd42",
            "metadata": {},
            "source": [
                "# Diagonal Matrix Product\n",
                "\n",
                "You are given two square matrices: $A$ and $D$, where $A$ is a \n",
                "full matrix and $D$ is a diagonal matrix:\n",
                "\n",
                "$$\n",
                "A = \\begin{bmatrix}\n",
                "- & \\mathbf a_1 & - \\\\\n",
                "& \\vdots & \\\\\n",
                "- & \\mathbf a_N & - \\\\\n",
                "\\end{bmatrix}\n",
                "$$\n",
                "\n",
                "$$\n",
                "D = \\textrm{diag}(d_1, d_2, \\dots, d_N) = \\begin{bmatrix}\n",
                "d_1 & & & & \\\\\n",
                "& d_2 & & & \\\\\n",
                "& & d_3 & & \\\\\n",
                "& & & \\ddots & \\\\\n",
                "& & & & d_N \n",
                "\\end{bmatrix}\n",
                "$$\n",
                "\n",
                "Write a program to calculate the result of $DA$ and $AD$ in \n",
                "the fastest possible way."
            ]
        },
        {
            "cell_type": "code",
            "execution_count": 40,
            "id": "af333a41",
            "metadata": {},
            "outputs": [],
            "source": [
                "def diag_prod_DA(A, D):\n",
                "    res = A.copy()\n",
                "    D_diag = np.diag(D)\n",
                "\n",
                "    for i in range(A.shape[0]):\n",
                "        res[i, :] = D_diag[i] * res[i, :]\n",
                "\n",
                "    return res\n",
                "\n",
                "def diag_prod_AD(A, D):\n",
                "    res = A.copy()\n",
                "\n",
                "    D_diag = np.diag(D)\n",
                "    for i in range(A.shape[1]):\n",
                "        res[:, i] = D_diag[i] * res[:, i]\n",
                "    \n",
                "    return res"
            ]
        },
        {
            "cell_type": "code",
            "execution_count": 41,
            "id": "68f65717",
            "metadata": {},
            "outputs": [],
            "source": [
                "answer['task4_1'] = []\n",
                "answer['task4_2'] = []\n",
                "for one_input in inputs['task4']:\n",
                "    answer['task4_1'].append(diag_prod_DA(**one_input))\n",
                "    answer['task4_2'].append(diag_prod_AD(**one_input))"
            ]
        },
        {
            "cell_type": "markdown",
            "id": "fc7b3dc4",
            "metadata": {},
            "source": [
                "# Sparse Matrix Product\n",
                "\n",
                "You are given two matrices of the same shape: $A$ and $B$. Matrix $A$ is full\n",
                "and is given in the form of `numpy.ndarray`.\n",
                "\n",
                "The second matrix $B$ is **sparse**. That means that the \n",
                "majority of the items are equal to $0$ except for $M$. This matrix is given\n",
                "as a set of non-zero elements of this matrix in form of $3 \\times M$ `numpy.ndarray` as row-column-value tuple (COO sparse matrix form):\n",
                "\n",
                "$$\n",
                "\\begin{bmatrix}\n",
                "r_1 & c_1 & v_1 \\\\\n",
                "r_2 & c_2 & v_2 \\\\\n",
                "& \\vdots & \\\\\n",
                "r_M & c_M & v_M \\\\\n",
                "\\end{bmatrix}\n",
                "$$\n",
                "\n",
                "If in this struct two items correspond to the same location, consider the latter is correct.\n",
                "\n",
                "Write the most efficient program that calculates $AB$.\n",
                "\n",
                "Also return the ratio between the number of multiplication operations that are needed to calculate the sparse product and the number of operations for full product."
            ]
        },
        {
            "cell_type": "code",
            "execution_count": 42,
            "id": "6a439900",
            "metadata": {},
            "outputs": [],
            "source": [
                "def sparse_matrix_product(A, B_sparse):\n",
                "    ops = 0\n",
                "\n",
                "    N, M = A.shape[0], int(B_sparse[1].max()) + 1\n",
                "    res = np.zeros((N, M))\n",
                "\n",
                "    not_duplicated = {}\n",
                "    for r, c, v in B_sparse.T:\n",
                "        not_duplicated[int(r), int(c)] = v\n",
                "\n",
                "    for (r, c), v in not_duplicated.items():\n",
                "        r, c = int(r), int(c)\n",
                "        ops += 1\n",
                "        res[:, c] += A[:, r] * v \n",
                "\n",
                "    ratio = (ops * N) / (A.shape[0] * A.shape[1] * M)\n",
                "    print(res)\n",
                "    return res, ratio\n"
            ]
        },
        {
            "cell_type": "code",
            "execution_count": 43,
            "id": "2db5922f",
            "metadata": {},
            "outputs": [
                {
                    "name": "stdout",
                    "output_type": "stream",
                    "text": [
                        "[[  6. -60.  10.  63.  66.]\n",
                        " [ -1. -98.  -7. -14. -39.]\n",
                        " [ 34. 140.   6.  14. -30.]\n",
                        " [-48. -50.  40. -49.  -8.]\n",
                        " [ 26.   0. -18. -14. -70.]\n",
                        " [-36. -34. -60. -35.  80.]\n",
                        " [-25. -32.  -7.  14.  77.]\n",
                        " [-72. -22. -24. -63.  80.]]\n",
                        "[[ -18.  116.    0.    3.]\n",
                        " [ -22. -126.    0.  -32.]]\n",
                        "[[  0.  24.   0.  -2.]\n",
                        " [  0.  27.   0.   4.]\n",
                        " [  0. -18.   0.  12.]\n",
                        " [  0.  -3.   0.  16.]]\n",
                        "[[   0.   -9.    0.    0.  -18.  -54.  -34.]\n",
                        " [  28.   24.    0.    0.   26.  -20.   62.]\n",
                        " [ -12.   49.    0.    0.  -24.    0.   50.]\n",
                        " [ -32.   18.    0.    0.   88.  -40.   38.]\n",
                        " [  34.    9.    0.    0.  -76.  -53.   34.]\n",
                        " [ -14.  -27.    0.    0.   50.   37. -108.]]\n",
                        "[[ 101.  -54.   97.  100.   22.  -36.  -87. -160.]\n",
                        " [ -12.   98.  -78. -119.    6.   32.   36.   51.]\n",
                        " [-106.  -56.  -10.  -26.   19.  -92.  -39.   21.]]\n",
                        "[[ -59.    0.    9.  -22.  -21.  103.   77.]\n",
                        " [ -44.   14.   93.  -26.   22. -100.   57.]\n",
                        " [  32.  -17.  -41.   24.   25.    1.  -61.]]\n",
                        "[[ -71.   58.   42.   49.   36.  -22.]\n",
                        " [ -39.   60.  -44.   -1.   56.   50.]\n",
                        " [ -35.    0.    6.   24.  -15.   -5.]\n",
                        " [  23.   64.  -12.    4.    1.  -12.]\n",
                        " [-117.  -81.  -76. -135.  -69.  -13.]\n",
                        " [  81.   -8.   21.  102.   52.   38.]]\n",
                        "[[  16.  -68.]\n",
                        " [  59.   83.]\n",
                        " [ -28. -102.]\n",
                        " [  23.  -20.]\n",
                        " [  18.  150.]\n",
                        " [ -79.   15.]]\n",
                        "[[  0.  -8.   0.   0. -14.   0. -12.]\n",
                        " [-42. -62.  54. -24. -26.  42.  96.]\n",
                        " [ 42.  38. -54.  24. -16. -42. -12.]\n",
                        " [-14. -10.  18.  -8.  10.  14.  -4.]\n",
                        " [  0.  32.   0.   0.  56.   0.  18.]]\n",
                        "[[ -6.   0.   0.   8. -12. -36.]\n",
                        " [ 18.   0.  -8.  48.  -7. -45.]\n",
                        " [ 27.   0. -12. -48.  18.  18.]]\n"
                    ]
                }
            ],
            "source": [
                "answer['task5'] = []\n",
                "for one_input in inputs['task5']:\n",
                "    answer['task5'].append(sparse_matrix_product(**one_input))"
            ]
        },
        {
            "cell_type": "code",
            "execution_count": 44,
            "id": "08e12548",
            "metadata": {},
            "outputs": [
                {
                    "ename": "ValueError",
                    "evalue": "Out of range float values are not JSON compliant",
                    "output_type": "error",
                    "traceback": [
                        "\u001b[31m---------------------------------------------------------------------------\u001b[39m",
                        "\u001b[31mValueError\u001b[39m                                Traceback (most recent call last)",
                        "\u001b[36mCell\u001b[39m\u001b[36m \u001b[39m\u001b[32mIn[44]\u001b[39m\u001b[32m, line 1\u001b[39m\n\u001b[32m----> \u001b[39m\u001b[32m1\u001b[39m \u001b[43mjson_tricks\u001b[49m\u001b[43m.\u001b[49m\u001b[43mdump\u001b[49m\u001b[43m(\u001b[49m\u001b[43manswer\u001b[49m\u001b[43m,\u001b[49m\u001b[43m \u001b[49m\u001b[33;43m'\u001b[39;49m\u001b[33;43m.answer.json\u001b[39;49m\u001b[33;43m'\u001b[39;49m\u001b[43m)\u001b[49m\n",
                        "\u001b[36mFile \u001b[39m\u001b[32m/usr/local/lib/python3.11/site-packages/json_tricks/nonp.py:151\u001b[39m, in \u001b[36mdump\u001b[39m\u001b[34m(obj, fp, sort_keys, cls, obj_encoders, extra_obj_encoders, primitives, compression, force_flush, allow_nan, conv_str_byte, fallback_encoders, properties, **jsonkwargs)\u001b[39m\n\u001b[32m    149\u001b[39m \u001b[38;5;28;01mif\u001b[39;00m (\u001b[38;5;28misinstance\u001b[39m(obj, str_type) \u001b[38;5;129;01mor\u001b[39;00m \u001b[38;5;28mhasattr\u001b[39m(obj, \u001b[33m'\u001b[39m\u001b[33mwrite\u001b[39m\u001b[33m'\u001b[39m)) \u001b[38;5;129;01mand\u001b[39;00m \u001b[38;5;28misinstance\u001b[39m(fp, (\u001b[38;5;28mlist\u001b[39m, \u001b[38;5;28mdict\u001b[39m)):\n\u001b[32m    150\u001b[39m \t\u001b[38;5;28;01mraise\u001b[39;00m \u001b[38;5;167;01mValueError\u001b[39;00m(\u001b[33m'\u001b[39m\u001b[33mjson-tricks dump arguments are in the wrong order: provide the data to be serialized before file handle\u001b[39m\u001b[33m'\u001b[39m)\n\u001b[32m--> \u001b[39m\u001b[32m151\u001b[39m txt = \u001b[43mdumps\u001b[49m\u001b[43m(\u001b[49m\u001b[43mobj\u001b[49m\u001b[43m,\u001b[49m\u001b[43m \u001b[49m\u001b[43msort_keys\u001b[49m\u001b[43m=\u001b[49m\u001b[43msort_keys\u001b[49m\u001b[43m,\u001b[49m\u001b[43m \u001b[49m\u001b[38;5;28;43mcls\u001b[39;49m\u001b[43m=\u001b[49m\u001b[38;5;28;43mcls\u001b[39;49m\u001b[43m,\u001b[49m\u001b[43m \u001b[49m\u001b[43mobj_encoders\u001b[49m\u001b[43m=\u001b[49m\u001b[43mobj_encoders\u001b[49m\u001b[43m,\u001b[49m\u001b[43m \u001b[49m\u001b[43mextra_obj_encoders\u001b[49m\u001b[43m=\u001b[49m\u001b[43mextra_obj_encoders\u001b[49m\u001b[43m,\u001b[49m\n\u001b[32m    152\u001b[39m \u001b[43m\t\u001b[49m\u001b[43mprimitives\u001b[49m\u001b[43m=\u001b[49m\u001b[43mprimitives\u001b[49m\u001b[43m,\u001b[49m\u001b[43m \u001b[49m\u001b[43mcompression\u001b[49m\u001b[43m=\u001b[49m\u001b[43mcompression\u001b[49m\u001b[43m,\u001b[49m\u001b[43m \u001b[49m\u001b[43mallow_nan\u001b[49m\u001b[43m=\u001b[49m\u001b[43mallow_nan\u001b[49m\u001b[43m,\u001b[49m\u001b[43m \u001b[49m\u001b[43mconv_str_byte\u001b[49m\u001b[43m=\u001b[49m\u001b[43mconv_str_byte\u001b[49m\u001b[43m,\u001b[49m\n\u001b[32m    153\u001b[39m \u001b[43m\t\u001b[49m\u001b[43mfallback_encoders\u001b[49m\u001b[43m=\u001b[49m\u001b[43mfallback_encoders\u001b[49m\u001b[43m,\u001b[49m\u001b[43m \u001b[49m\u001b[43mproperties\u001b[49m\u001b[43m=\u001b[49m\u001b[43mproperties\u001b[49m\u001b[43m,\u001b[49m\u001b[43m \u001b[49m\u001b[43m*\u001b[49m\u001b[43m*\u001b[49m\u001b[43mjsonkwargs\u001b[49m\u001b[43m)\u001b[49m\n\u001b[32m    154\u001b[39m \u001b[38;5;28;01mif\u001b[39;00m \u001b[38;5;28misinstance\u001b[39m(fp, str_type):\n\u001b[32m    155\u001b[39m \t\u001b[38;5;28;01mif\u001b[39;00m compression:\n",
                        "\u001b[36mFile \u001b[39m\u001b[32m/usr/local/lib/python3.11/site-packages/json_tricks/nonp.py:125\u001b[39m, in \u001b[36mdumps\u001b[39m\u001b[34m(obj, sort_keys, cls, obj_encoders, extra_obj_encoders, primitives, compression, allow_nan, conv_str_byte, fallback_encoders, properties, **jsonkwargs)\u001b[39m\n\u001b[32m    121\u001b[39m \t\u001b[38;5;28mcls\u001b[39m = TricksEncoder\n\u001b[32m    122\u001b[39m combined_encoder = \u001b[38;5;28mcls\u001b[39m(sort_keys=sort_keys, obj_encoders=encoders, allow_nan=allow_nan,\n\u001b[32m    123\u001b[39m \tprimitives=primitives, fallback_encoders=fallback_encoders,\n\u001b[32m    124\u001b[39m   \tproperties=properties, **jsonkwargs)\n\u001b[32m--> \u001b[39m\u001b[32m125\u001b[39m txt = \u001b[43mcombined_encoder\u001b[49m\u001b[43m.\u001b[49m\u001b[43mencode\u001b[49m\u001b[43m(\u001b[49m\u001b[43mobj\u001b[49m\u001b[43m)\u001b[49m\n\u001b[32m    126\u001b[39m \u001b[38;5;28;01mif\u001b[39;00m \u001b[38;5;129;01mnot\u001b[39;00m is_py3 \u001b[38;5;129;01mand\u001b[39;00m \u001b[38;5;28misinstance\u001b[39m(txt, \u001b[38;5;28mstr\u001b[39m):\n\u001b[32m    127\u001b[39m \ttxt = unicode(txt, ENCODING)\n",
                        "\u001b[36mFile \u001b[39m\u001b[32m/usr/local/lib/python3.11/json/encoder.py:200\u001b[39m, in \u001b[36mJSONEncoder.encode\u001b[39m\u001b[34m(self, o)\u001b[39m\n\u001b[32m    196\u001b[39m         \u001b[38;5;28;01mreturn\u001b[39;00m encode_basestring(o)\n\u001b[32m    197\u001b[39m \u001b[38;5;66;03m# This doesn't pass the iterator directly to ''.join() because the\u001b[39;00m\n\u001b[32m    198\u001b[39m \u001b[38;5;66;03m# exceptions aren't as detailed.  The list call should be roughly\u001b[39;00m\n\u001b[32m    199\u001b[39m \u001b[38;5;66;03m# equivalent to the PySequence_Fast that ''.join() would do.\u001b[39;00m\n\u001b[32m--> \u001b[39m\u001b[32m200\u001b[39m chunks = \u001b[38;5;28;43mself\u001b[39;49m\u001b[43m.\u001b[49m\u001b[43miterencode\u001b[49m\u001b[43m(\u001b[49m\u001b[43mo\u001b[49m\u001b[43m,\u001b[49m\u001b[43m \u001b[49m\u001b[43m_one_shot\u001b[49m\u001b[43m=\u001b[49m\u001b[38;5;28;43;01mTrue\u001b[39;49;00m\u001b[43m)\u001b[49m\n\u001b[32m    201\u001b[39m \u001b[38;5;28;01mif\u001b[39;00m \u001b[38;5;129;01mnot\u001b[39;00m \u001b[38;5;28misinstance\u001b[39m(chunks, (\u001b[38;5;28mlist\u001b[39m, \u001b[38;5;28mtuple\u001b[39m)):\n\u001b[32m    202\u001b[39m     chunks = \u001b[38;5;28mlist\u001b[39m(chunks)\n",
                        "\u001b[36mFile \u001b[39m\u001b[32m/usr/local/lib/python3.11/json/encoder.py:258\u001b[39m, in \u001b[36mJSONEncoder.iterencode\u001b[39m\u001b[34m(self, o, _one_shot)\u001b[39m\n\u001b[32m    253\u001b[39m \u001b[38;5;28;01melse\u001b[39;00m:\n\u001b[32m    254\u001b[39m     _iterencode = _make_iterencode(\n\u001b[32m    255\u001b[39m         markers, \u001b[38;5;28mself\u001b[39m.default, _encoder, \u001b[38;5;28mself\u001b[39m.indent, floatstr,\n\u001b[32m    256\u001b[39m         \u001b[38;5;28mself\u001b[39m.key_separator, \u001b[38;5;28mself\u001b[39m.item_separator, \u001b[38;5;28mself\u001b[39m.sort_keys,\n\u001b[32m    257\u001b[39m         \u001b[38;5;28mself\u001b[39m.skipkeys, _one_shot)\n\u001b[32m--> \u001b[39m\u001b[32m258\u001b[39m \u001b[38;5;28;01mreturn\u001b[39;00m \u001b[43m_iterencode\u001b[49m\u001b[43m(\u001b[49m\u001b[43mo\u001b[49m\u001b[43m,\u001b[49m\u001b[43m \u001b[49m\u001b[32;43m0\u001b[39;49m\u001b[43m)\u001b[49m\n",
                        "\u001b[31mValueError\u001b[39m: Out of range float values are not JSON compliant"
                    ]
                }
            ],
            "source": [
                "json_tricks.dump(answer, '.answer.json')"
            ]
        }
    ],
    "metadata": {
        "kernelspec": {
            "display_name": "Python 3",
            "language": "python",
            "name": "python3"
        },
        "language_info": {
            "codemirror_mode": {
                "name": "ipython",
                "version": 3
            },
            "file_extension": ".py",
            "mimetype": "text/x-python",
            "name": "python",
            "nbconvert_exporter": "python",
            "pygments_lexer": "ipython3",
            "version": "3.11.13"
        }
    },
    "nbformat": 4,
    "nbformat_minor": 5
}
