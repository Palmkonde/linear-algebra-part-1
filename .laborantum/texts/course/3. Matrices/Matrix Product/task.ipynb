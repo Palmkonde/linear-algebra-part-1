{
    "cells": [
        {
            "cell_type": "code",
            "execution_count": 13,
            "id": "acceacb5",
            "metadata": {},
            "outputs": [
                {
                    "name": "stdout",
                    "output_type": "stream",
                    "text": [
                        "Build Dependencies:\n",
                        "  blas:\n",
                        "    detection method: pkgconfig\n",
                        "    found: true\n",
                        "    include directory: /opt/_internal/cpython-3.11.10/lib/python3.11/site-packages/scipy_openblas64/include\n",
                        "    lib directory: /opt/_internal/cpython-3.11.10/lib/python3.11/site-packages/scipy_openblas64/lib\n",
                        "    name: scipy-openblas\n",
                        "    openblas configuration: OpenBLAS 0.3.27  USE64BITINT DYNAMIC_ARCH NO_AFFINITY\n",
                        "      Haswell MAX_THREADS=64\n",
                        "    pc file directory: /project/.openblas\n",
                        "    version: 0.3.27\n",
                        "  lapack:\n",
                        "    detection method: pkgconfig\n",
                        "    found: true\n",
                        "    include directory: /opt/_internal/cpython-3.11.10/lib/python3.11/site-packages/scipy_openblas64/include\n",
                        "    lib directory: /opt/_internal/cpython-3.11.10/lib/python3.11/site-packages/scipy_openblas64/lib\n",
                        "    name: scipy-openblas\n",
                        "    openblas configuration: OpenBLAS 0.3.27  USE64BITINT DYNAMIC_ARCH NO_AFFINITY\n",
                        "      Haswell MAX_THREADS=64\n",
                        "    pc file directory: /project/.openblas\n",
                        "    version: 0.3.27\n",
                        "Compilers:\n",
                        "  c:\n",
                        "    commands: cc\n",
                        "    linker: ld.bfd\n",
                        "    name: gcc\n",
                        "    version: 10.2.1\n",
                        "  c++:\n",
                        "    commands: c++\n",
                        "    linker: ld.bfd\n",
                        "    name: gcc\n",
                        "    version: 10.2.1\n",
                        "  cython:\n",
                        "    commands: cython\n",
                        "    linker: cython\n",
                        "    name: cython\n",
                        "    version: 3.0.11\n",
                        "Machine Information:\n",
                        "  build:\n",
                        "    cpu: x86_64\n",
                        "    endian: little\n",
                        "    family: x86_64\n",
                        "    system: linux\n",
                        "  host:\n",
                        "    cpu: x86_64\n",
                        "    endian: little\n",
                        "    family: x86_64\n",
                        "    system: linux\n",
                        "Python Information:\n",
                        "  path: /tmp/build-env-dv3lw3nl/bin/python\n",
                        "  version: '3.11'\n",
                        "SIMD Extensions:\n",
                        "  baseline:\n",
                        "  - SSE\n",
                        "  - SSE2\n",
                        "  - SSE3\n",
                        "  found:\n",
                        "  - SSSE3\n",
                        "  - SSE41\n",
                        "  - POPCNT\n",
                        "  - SSE42\n",
                        "  - AVX\n",
                        "  - F16C\n",
                        "  - FMA3\n",
                        "  - AVX2\n",
                        "  not found:\n",
                        "  - AVX512F\n",
                        "  - AVX512CD\n",
                        "  - AVX512_KNL\n",
                        "  - AVX512_KNM\n",
                        "  - AVX512_SKX\n",
                        "  - AVX512_CLX\n",
                        "  - AVX512_CNL\n",
                        "  - AVX512_ICL\n",
                        "\n"
                    ]
                }
            ],
            "source": [
                "import numpy as np\n",
                "import json_tricks\n",
                "answer = {}\n",
                "\n",
                "\n",
                "inputs = json_tricks.load('inputs/inputs.json')\n",
                "\n",
                "np.show_config()"
            ]
        },
        {
            "cell_type": "markdown",
            "id": "2a65a805",
            "metadata": {},
            "source": [
                "# Matrix Product II\n",
                "\n",
                "$$A_{5 \\times 10} \\  B_{10 \\times 2}\\ C_{2 \\times 30}\\ D_{30 \\times 3}\\ E_{3 \\times 9}$$\n",
                "\n",
                "1. What will be the shape of the resulting matrix?\n",
                "2. How many multiplication of numbers are required at best?"
            ]
        },
        {
            "cell_type": "code",
            "execution_count": 2,
            "id": "70ec671d",
            "metadata": {},
            "outputs": [],
            "source": [
                "answer['task1'] = {\n",
                "    '1': (5, 9),\n",
                "    '2': 424\n",
                "}\n",
                "\n"
            ]
        },
        {
            "cell_type": "markdown",
            "id": "a134c56f",
            "metadata": {},
            "source": [
                "# Numpy expression\n",
                "\n",
                "Using Numpy, write a function that calculates the \n",
                "following expression:\n",
                "\n",
                "$$\\exp(A^T(B + 2C) + 3I) \\mathbf x,$$\n",
                "\n",
                "where $I$ is an identity matrix of the necessary shape."
            ]
        },
        {
            "cell_type": "code",
            "execution_count": null,
            "id": "e93e082d",
            "metadata": {},
            "outputs": [
                {
                    "name": "stdout",
                    "output_type": "stream",
                    "text": [
                        "[[-2.68562044e-01]\n",
                        " [ 7.88735520e+04]\n",
                        " [ 4.81151377e+06]\n",
                        " [ 1.35335733e-01]]\n",
                        "[[ 4.83099055e+07]\n",
                        " [-6.01302394e+06]\n",
                        " [-5.56431877e+36]]\n",
                        "[[-6.15130206e+16]\n",
                        " [-5.34323729e+13]]\n",
                        "[[-8.03421478e+01]\n",
                        " [-1.72449262e+16]\n",
                        " [-4.81041714e+06]]\n",
                        "[[-3.95644720e+09]\n",
                        " [-8.13776957e+05]]\n",
                        "[[1.69146291e+10]\n",
                        " [7.78305278e-20]]\n",
                        "[[ 1.12183580e+09]\n",
                        " [ 2.14427565e+14]\n",
                        " [-6.60793974e+04]]\n",
                        "[[-3.50836795e+21]\n",
                        " [ 5.21782482e+18]\n",
                        " [ 1.48593859e-11]]\n",
                        "[[2.83075330e+23]\n",
                        " [1.44625688e+12]]\n",
                        "[[5.57893619e-10]\n",
                        " [5.14359733e+16]\n",
                        " [1.77722210e+07]]\n"
                    ]
                }
            ],
            "source": [
                "\n",
                "def numpy_expression(A, B, C, x):\n",
                "    N = A.shape[-1]\n",
                "    M = B.shape[-1]\n",
                "\n",
                "    res = np.exp(A.T @ (B + (2 * C)) + (3 * np.eye(N, M))) @ x\n",
                "    print(res)\n",
                "    return res.astype(float)"
            ]
        },
        {
            "cell_type": "code",
            "execution_count": 4,
            "id": "e93e082d",
            "metadata": {},
            "outputs": [
                {
                    "name": "stdout",
                    "output_type": "stream",
                    "text": [
                        "[[-2.68562044e-01]\n",
                        " [ 7.88735520e+04]\n",
                        " [ 4.81151377e+06]\n",
                        " [ 1.35335733e-01]]\n",
                        "[[ 4.83099055e+07]\n",
                        " [-6.01302394e+06]\n",
                        " [-5.56431877e+36]]\n",
                        "[[-6.15130206e+16]\n",
                        " [-5.34323729e+13]]\n",
                        "[[-8.03421478e+01]\n",
                        " [-1.72449262e+16]\n",
                        " [-4.81041714e+06]]\n",
                        "[[-3.95644720e+09]\n",
                        " [-8.13776957e+05]]\n",
                        "[[1.69146291e+10]\n",
                        " [7.78305278e-20]]\n",
                        "[[ 1.12183580e+09]\n",
                        " [ 2.14427565e+14]\n",
                        " [-6.60793974e+04]]\n",
                        "[[-3.50836795e+21]\n",
                        " [ 5.21782482e+18]\n",
                        " [ 1.48593859e-11]]\n",
                        "[[2.83075330e+23]\n",
                        " [1.44625688e+12]]\n",
                        "[[5.57893619e-10]\n",
                        " [5.14359733e+16]\n",
                        " [1.77722210e+07]]\n"
                    ]
                }
            ],
            "source": [
                "answer['task2'] = []\n",
                "for one_input in inputs['task2']:\n",
                "    answer['task2'].append(numpy_expression(**one_input))\n"
            ]
        },
        {
            "cell_type": "markdown",
            "id": "2aef45b9",
            "metadata": {},
            "source": [
                "# Einstein's Rule\n",
                "\n",
                "In *Tensor Algebra*, a direct generalization of the Linear Algebra to the case of $N$-dimentional tables called *tensors* (normal matrix), the Einstein's rule exists.\n",
                "\n",
                "It works as follows: if you see a duplicating upper and lower index in the formula, that means, this index convolves.\n",
                "\n",
                "For example, the following tensor expression, summation and matrix product are equivalent:\n",
                "\n",
                "$$a_k^l b_l^m = \\sum_{l=1}^L a_k^l b_l^m = AB$$\n",
                "\n",
                "In this notation subscript means row index and superscript means column index.\n",
                "\n",
                "<details>\n",
                "<summary> Note </summary>\n",
                "\n",
                "> [!NOTE]\n",
                "> Also at some point it will be important to know that:\n",
                "> * lower index represents a contravariant dimension of a\n",
                "> tensor\n",
                "> * upper index represents a covariant dimension \n",
                "> of tensor. But let us omit this part for now.\n",
                "\n",
                "</details>\n",
                "\n",
                "# Task\n",
                "\n",
                "Calculate the following expression written using Einstein's \n",
                "rule:\n",
                "\n",
                "$$a_k^m b_m^n c_n^o d_l^k$$"
            ]
        },
        {
            "cell_type": "code",
            "execution_count": 5,
            "id": "3feb6914",
            "metadata": {},
            "outputs": [],
            "source": [
                "def einsteins_rule(A, B, C, D):\n",
                "    res = (D @ (A @ B @ C)) \n",
                "    return res"
            ]
        },
        {
            "cell_type": "code",
            "execution_count": 6,
            "id": "f9cd1e7e",
            "metadata": {},
            "outputs": [],
            "source": [
                "answer['task3'] = []\n",
                "for one_input in inputs['task3']:\n",
                "    answer['task3'].append(einsteins_rule(**one_input))\n",
                "\n",
                "# answer['task3']"
            ]
        },
        {
            "cell_type": "markdown",
            "id": "ad37cd42",
            "metadata": {},
            "source": [
                "# Diagonal Matrix Product\n",
                "\n",
                "You are given two square matrices: $A$ and $D$, where $A$ is a \n",
                "full matrix and $D$ is a diagonal matrix:\n",
                "\n",
                "$$\n",
                "A = \\begin{bmatrix}\n",
                "- & \\mathbf a_1 & - \\\\\n",
                "& \\vdots & \\\\\n",
                "- & \\mathbf a_N & - \\\\\n",
                "\\end{bmatrix}\n",
                "$$\n",
                "\n",
                "$$\n",
                "D = \\textrm{diag}(d_1, d_2, \\dots, d_N) = \\begin{bmatrix}\n",
                "d_1 & & & & \\\\\n",
                "& d_2 & & & \\\\\n",
                "& & d_3 & & \\\\\n",
                "& & & \\ddots & \\\\\n",
                "& & & & d_N \n",
                "\\end{bmatrix}\n",
                "$$\n",
                "\n",
                "Write a program to calculate the result of $DA$ and $AD$ in \n",
                "the fastest possible way."
            ]
        },
        {
            "cell_type": "code",
            "execution_count": 7,
            "id": "af333a41",
            "metadata": {},
            "outputs": [],
            "source": [
                "def diag_prod_DA(A, D):\n",
                "    res = A.copy()\n",
                "    D_diag = np.diag(D)\n",
                "\n",
                "    for i in range(A.shape[0]):\n",
                "        res[i, :] = D_diag[i] * res[i, :]\n",
                "\n",
                "    return res\n",
                "\n",
                "def diag_prod_AD(A, D):\n",
                "    res = A.copy()\n",
                "\n",
                "    D_diag = np.diag(D)\n",
                "    for i in range(A.shape[1]):\n",
                "        res[:, i] = D_diag[i] * res[:, i]\n",
                "    \n",
                "    return res"
            ]
        },
        {
            "cell_type": "code",
            "execution_count": 8,
            "id": "68f65717",
            "metadata": {},
            "outputs": [],
            "source": [
                "answer['task4_1'] = []\n",
                "answer['task4_2'] = []\n",
                "for one_input in inputs['task4']:\n",
                "    answer['task4_1'].append(diag_prod_DA(**one_input))\n",
                "    answer['task4_2'].append(diag_prod_AD(**one_input))"
            ]
        },
        {
            "cell_type": "markdown",
            "id": "fc7b3dc4",
            "metadata": {},
            "source": [
                "# Sparse Matrix Product\n",
                "\n",
                "You are given two matrices of the same shape: $A$ and $B$. Matrix $A$ is full\n",
                "and is given in the form of `numpy.ndarray`.\n",
                "\n",
                "The second matrix $B$ is **sparse**. That means that the \n",
                "majority of the items are equal to $0$ except for $M$. This matrix is given\n",
                "as a set of non-zero elements of this matrix in form of $3 \\times M$ `numpy.ndarray` as row-column-value tuple (COO sparse matrix form):\n",
                "\n",
                "$$\n",
                "\\begin{bmatrix}\n",
                "r_1 & c_1 & v_1 \\\\\n",
                "r_2 & c_2 & v_2 \\\\\n",
                "& \\vdots & \\\\\n",
                "r_M & c_M & v_M \\\\\n",
                "\\end{bmatrix}\n",
                "$$\n",
                "\n",
                "If in this struct two items correspond to the same location, consider the latter is correct.\n",
                "\n",
                "Write the most efficient program that calculates $AB$.\n",
                "\n",
                "Also return the ratio between the number of multiplication operations that are needed to calculate the sparse product and the number of operations for full product."
            ]
        },
        {
            "cell_type": "code",
            "execution_count": 9,
            "id": "6a439900",
            "metadata": {},
            "outputs": [],
            "source": [
                "def sparse_matrix_product(A, B_sparse):\n",
                "    ops = 0\n",
                "\n",
                "    N, M = A.shape[0], int(B_sparse[1].max()) + 1\n",
                "    res = np.zeros((N, M))\n",
                "\n",
                "    not_duplicated = {}\n",
                "    for r, c, v in B_sparse.T:\n",
                "        not_duplicated[int(r), int(c)] = v\n",
                "\n",
                "    for (r, c), v in not_duplicated.items():\n",
                "        r, c = int(r), int(c)\n",
                "        ops += 1\n",
                "        res[:, c] += A[:, r] * v \n",
                "\n",
                "    ratio = (ops * N) / (A.shape[0] * A.shape[1] * M)\n",
                "    print(res)\n",
                "    return res, ratio\n"
            ]
        },
        {
            "cell_type": "code",
            "execution_count": 10,
            "id": "2db5922f",
            "metadata": {},
            "outputs": [
                {
                    "name": "stdout",
                    "output_type": "stream",
                    "text": [
                        "[[  0. -16.]\n",
                        " [ 15. -16.]\n",
                        " [-27.  20.]\n",
                        " [ -3.  -4.]]\n",
                        "[[  0.  12.  12.]\n",
                        " [ 37. -12.  25.]\n",
                        " [-13.   3.   8.]]\n",
                        "[[  0.  16. -16.]\n",
                        " [  0.  16. -16.]]\n",
                        "[[ -7.   2.  -3.]\n",
                        " [-15. -18.   1.]\n",
                        " [ -9.  -6.  -1.]]\n",
                        "[[-2.  0.  0.  3.]\n",
                        " [-8.  0.  0. 12.]]\n",
                        "[[ -5.  -4.]\n",
                        " [  9. -12.]]\n",
                        "[[ 10.   8.   0.   0.]\n",
                        " [-15.  12.   0.  -5.]\n",
                        " [ 10.  15.   0.  -3.]]\n",
                        "[[ 8.  0.  2.  4.]\n",
                        " [-4.  0.  0. -2.]\n",
                        " [-2.  0. 10. -1.]]\n",
                        "[[  9.   8.   0.   0.]\n",
                        " [-24.  -6. -10.   0.]]\n",
                        "[[-3.]\n",
                        " [ 4.]\n",
                        " [ 1.]]\n"
                    ]
                }
            ],
            "source": [
                "answer['task5'] = []\n",
                "for one_input in inputs['task5']:\n",
                "    answer['task5'].append(sparse_matrix_product(**one_input))"
            ]
        },
        {
            "cell_type": "code",
            "execution_count": 11,
            "id": "08e12548",
            "metadata": {},
            "outputs": [
                {
                    "data": {
                        "text/plain": [
                            "'{\"task1\": {\"1\": [5, 9], \"2\": 424}, \"task2\": [{\"__ndarray__\": [[-0.26856204365326736], [78873.55195599546], [4811513.768811148], [0.1353357330694552]], \"dtype\": \"float64\", \"shape\": [4, 1], \"Corder\": true}, {\"__ndarray__\": [[48309905.5069236], [-6013023.936897506], [-5.564318773958797e+36]], \"dtype\": \"float64\", \"shape\": [3, 1], \"Corder\": true}, {\"__ndarray__\": [[-6.151302057665034e+16], [-53432372907627.31]], \"dtype\": \"float64\", \"shape\": [2, 1], \"Corder\": true}, {\"__ndarray__\": [[-80.34214775367059], [-1.72449261891118e+16], [-4810417.136659107]], \"dtype\": \"float64\", \"shape\": [3, 1], \"Corder\": true}, {\"__ndarray__\": [[-3956447203.449644], [-813776.9570950195]], \"dtype\": \"float64\", \"shape\": [2, 1], \"Corder\": true}, {\"__ndarray__\": [[16914629138.512087], [7.783052777144698e-20]], \"dtype\": \"float64\", \"shape\": [2, 1], \"Corder\": true}, {\"__ndarray__\": [[1121835797.5149987], [214427565087903.9], [-66079.39738442056]], \"dtype\": \"float64\", \"shape\": [3, 1], \"Corder\": true}, {\"__ndarray__\": [[-3.508367951710045e+21], [5.217824824561503e+18], [1.4859385935747966e-11]], \"dtype\": \"float64\", \"shape\": [3, 1], \"Corder\": true}, {\"__ndarray__\": [[2.830753303274694e+23], [1446256884669.05]], \"dtype\": \"float64\", \"shape\": [2, 1], \"Corder\": true}, {\"__ndarray__\": [[5.578936185527237e-10], [5.143597330647074e+16], [17772221.041018]], \"dtype\": \"float64\", \"shape\": [3, 1], \"Corder\": true}], \"task3\": [{\"__ndarray__\": [[-394, -290, 299, -307], [324, -283, -251, -366], [-646, 252, -661, 419], [376, -1038, 234, -1076]], \"dtype\": \"int64\", \"shape\": [4, 4], \"Corder\": true}, {\"__ndarray__\": [[172, 24, -72], [-665, 81, 60], [109, 15, -36]], \"dtype\": \"int64\", \"shape\": [3, 3], \"Corder\": true}, {\"__ndarray__\": [[194, -229], [332, -397]], \"dtype\": \"int64\", \"shape\": [2, 2], \"Corder\": true}, {\"__ndarray__\": [[8, -168, 48], [-35, -234, -6], [139, 253, 152]], \"dtype\": \"int64\", \"shape\": [3, 3], \"Corder\": true}, {\"__ndarray__\": [[-288, -216], [-448, -336]], \"dtype\": \"int64\", \"shape\": [2, 2], \"Corder\": true}, {\"__ndarray__\": [[-252, -48], [-510, -108]], \"dtype\": \"int64\", \"shape\": [2, 2], \"Corder\": true}, {\"__ndarray__\": [[754, -366, 684], [-258, 57, -333], [48, 83, 199]], \"dtype\": \"int64\", \"shape\": [3, 3], \"Corder\": true}, {\"__ndarray__\": [[76, 28, 108], [83, 163, 364], [73, 505, 444]], \"dtype\": \"int64\", \"shape\": [3, 3], \"Corder\": true}, {\"__ndarray__\": [[16, 96], [55, 330]], \"dtype\": \"int64\", \"shape\": [2, 2], \"Corder\": true}, {\"__ndarray__\": [[25, -551, 318], [-109, 1131, -582], [152, -672, 288]], \"dtype\": \"int64\", \"shape\": [3, 3], \"Corder\": true}], \"task4_1\": [{\"__ndarray__\": [[-5, -20, -15, -5], [-9, -6, 12, 15], [-1, -1, -2, 1], [9, -6, 0, 9]], \"dtype\": \"int64\", \"shape\": [4, 4], \"Corder\": true}, {\"__ndarray__\": [[-6, 9, -15], [-8, -4, 16], [2, -5, 3]], \"dtype\": \"int64\", \"shape\": [3, 3], \"Corder\": true}, {\"__ndarray__\": [[6, 3], [-4, 20]], \"dtype\": \"int64\", \"shape\": [2, 2], \"Corder\": true}, {\"__ndarray__\": [[5, -20, 5], [-4, -12, 4], [0, 0, 0]], \"dtype\": \"int64\", \"shape\": [3, 3], \"Corder\": true}, {\"__ndarray__\": [[-12, -12], [12, -12]], \"dtype\": \"int64\", \"shape\": [2, 2], \"Corder\": true}, {\"__ndarray__\": [[9, -9], [4, -8]], \"dtype\": \"int64\", \"shape\": [2, 2], \"Corder\": true}, {\"__ndarray__\": [[8, 0, 8], [4, -8, -16], [2, -4, -2]], \"dtype\": \"int64\", \"shape\": [3, 3], \"Corder\": true}, {\"__ndarray__\": [[0, -20, 8], [2, 8, -6], [25, 5, 10]], \"dtype\": \"int64\", \"shape\": [3, 3], \"Corder\": true}, {\"__ndarray__\": [[-20, -8], [-9, 6]], \"dtype\": \"int64\", \"shape\": [2, 2], \"Corder\": true}, {\"__ndarray__\": [[15, 15, -3], [0, 0, 0], [0, 0, 0]], \"dtype\": \"int64\", \"shape\": [3, 3], \"Corder\": true}], \"task4_2\": [{\"__ndarray__\": [[-5, -12, -3, -3], [-15, -6, 4, 15], [-5, -3, -2, 3], [15, -6, 0, 9]], \"dtype\": \"int64\", \"shape\": [4, 4], \"Corder\": true}, {\"__ndarray__\": [[-6, -12, -5], [6, -4, -4], [6, 20, 3]], \"dtype\": \"int64\", \"shape\": [3, 3], \"Corder\": true}, {\"__ndarray__\": [[6, 4], [-3, 20]], \"dtype\": \"int64\", \"shape\": [2, 2], \"Corder\": true}, {\"__ndarray__\": [[5, -16, 0], [-5, -12, 0], [25, -16, 0]], \"dtype\": \"int64\", \"shape\": [3, 3], \"Corder\": true}, {\"__ndarray__\": [[-12, 12], [-12, -12]], \"dtype\": \"int64\", \"shape\": [2, 2], \"Corder\": true}, {\"__ndarray__\": [[9, 12], [-3, -8]], \"dtype\": \"int64\", \"shape\": [2, 2], \"Corder\": true}, {\"__ndarray__\": [[8, 0, -2], [-4, -8, -4], [-8, -16, -2]], \"dtype\": \"int64\", \"shape\": [3, 3], \"Corder\": true}, {\"__ndarray__\": [[0, -10, -10], [4, 8, 15], [-20, -2, 10]], \"dtype\": \"int64\", \"shape\": [3, 3], \"Corder\": true}, {\"__ndarray__\": [[-20, 6], [12, 6]], \"dtype\": \"int64\", \"shape\": [2, 2], \"Corder\": true}, {\"__ndarray__\": [[15, 0, 0], [12, 0, 0], [-6, 0, 0]], \"dtype\": \"int64\", \"shape\": [3, 3], \"Corder\": true}], \"task5\": [[{\"__ndarray__\": [[0.0, -16.0], [15.0, -16.0], [-27.0, 20.0], [-3.0, -4.0]], \"dtype\": \"float64\", \"shape\": [4, 2], \"Corder\": true}, 0.625], [{\"__ndarray__\": [[0.0, 12.0, 12.0], [37.0, -12.0, 25.0], [-13.0, 3.0, 8.0]], \"dtype\": \"float64\", \"shape\": [3, 3], \"Corder\": true}, 0.5], [{\"__ndarray__\": [[0.0, 16.0, -16.0], [0.0, 16.0, -16.0]], \"dtype\": \"float64\", \"shape\": [2, 3], \"Corder\": true}, 0.3333333333333333], [{\"__ndarray__\": [[-7.0, 2.0, -3.0], [-15.0, -18.0, 1.0], [-9.0, -6.0, -1.0]], \"dtype\": \"float64\", \"shape\": [3, 3], \"Corder\": true}, 0.8333333333333334], [{\"__ndarray__\": [[-2.0, 0.0, 0.0, 3.0], [-8.0, 0.0, 0.0, 12.0]], \"dtype\": \"float64\", \"shape\": [2, 4], \"Corder\": true}, 0.25], [{\"__ndarray__\": [[-5.0, -4.0], [9.0, -12.0]], \"dtype\": \"float64\", \"shape\": [2, 2], \"Corder\": true}, 0.75], [{\"__ndarray__\": [[10.0, 8.0, 0.0, 0.0], [-15.0, 12.0, 0.0, -5.0], [10.0, 15.0, 0.0, -3.0]], \"dtype\": \"float64\", \"shape\": [3, 4], \"Corder\": true}, 0.5], [{\"__ndarray__\": [[8.0, 0.0, 2.0, 4.0], [-4.0, 0.0, 0.0, -2.0], [-2.0, 0.0, 10.0, -1.0]], \"dtype\": \"float64\", \"shape\": [3, 4], \"Corder\": true}, 0.5], [{\"__ndarray__\": [[9.0, 8.0, 0.0, 0.0], [-24.0, -6.0, -10.0, 0.0]], \"dtype\": \"float64\", \"shape\": [2, 4], \"Corder\": true}, 0.5], [{\"__ndarray__\": [[-3.0], [4.0], [1.0]], \"dtype\": \"float64\", \"shape\": [3, 1], \"Corder\": true}, 0.25]]}'"
                        ]
                    },
                    "execution_count": 11,
                    "metadata": {},
                    "output_type": "execute_result"
                }
            ],
            "source": [
                "json_tricks.dump(answer, '.answer.json')"
            ]
        }
    ],
    "metadata": {
        "kernelspec": {
            "display_name": "Python 3",
            "language": "python",
            "name": "python3"
        },
        "language_info": {
            "codemirror_mode": {
                "name": "ipython",
                "version": 3
            },
            "file_extension": ".py",
            "mimetype": "text/x-python",
            "name": "python",
            "nbconvert_exporter": "python",
            "pygments_lexer": "ipython3",
            "version": "3.11.13"
        }
    },
    "nbformat": 4,
    "nbformat_minor": 5
}
