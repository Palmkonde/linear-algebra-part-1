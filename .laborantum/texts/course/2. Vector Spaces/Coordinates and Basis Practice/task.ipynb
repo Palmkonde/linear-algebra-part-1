{
    "cells": [
        {
            "cell_type": "code",
            "execution_count": 1,
            "id": "63fbc025",
            "metadata": {},
            "outputs": [
                {
                    "ename": "FileNotFoundError",
                    "evalue": "[Errno 2] No such file or directory: '.inputs.json'",
                    "output_type": "error",
                    "traceback": [
                        "\u001b[31m---------------------------------------------------------------------------\u001b[39m",
                        "\u001b[31mFileNotFoundError\u001b[39m                         Traceback (most recent call last)",
                        "\u001b[36mCell\u001b[39m\u001b[36m \u001b[39m\u001b[32mIn[1]\u001b[39m\u001b[32m, line 5\u001b[39m\n\u001b[32m      1\u001b[39m \u001b[38;5;28;01mimport\u001b[39;00m\u001b[38;5;250m \u001b[39m\u001b[34;01mnumpy\u001b[39;00m\u001b[38;5;250m \u001b[39m\u001b[38;5;28;01mas\u001b[39;00m\u001b[38;5;250m \u001b[39m\u001b[34;01mnp\u001b[39;00m\n\u001b[32m      2\u001b[39m \u001b[38;5;28;01mimport\u001b[39;00m\u001b[38;5;250m \u001b[39m\u001b[34;01mjson_tricks\u001b[39;00m\n\u001b[32m----> \u001b[39m\u001b[32m5\u001b[39m inputs = \u001b[43mjson_tricks\u001b[49m\u001b[43m.\u001b[49m\u001b[43mload\u001b[49m\u001b[43m(\u001b[49m\u001b[33;43m'\u001b[39;49m\u001b[33;43m.inputs.json\u001b[39;49m\u001b[33;43m'\u001b[39;49m\u001b[43m)\u001b[49m\n\u001b[32m      6\u001b[39m answer = {}\n",
                        "\u001b[36mFile \u001b[39m\u001b[32m/usr/local/lib/python3.11/site-packages/json_tricks/nonp.py:284\u001b[39m, in \u001b[36mload\u001b[39m\u001b[34m(fp, preserve_order, ignore_comments, decompression, obj_pairs_hooks, extra_obj_pairs_hooks, cls_lookup_map, allow_duplicates, conv_str_byte, properties, **jsonkwargs)\u001b[39m\n\u001b[32m    282\u001b[39m \topen_binary = \u001b[38;5;28mbool\u001b[39m(decompression)\n\u001b[32m    283\u001b[39m \u001b[38;5;28;01melse\u001b[39;00m:\n\u001b[32m--> \u001b[39m\u001b[32m284\u001b[39m \t\u001b[38;5;28;01mwith\u001b[39;00m \u001b[38;5;28;43mopen\u001b[39;49m\u001b[43m(\u001b[49m\u001b[43mfp\u001b[49m\u001b[43m,\u001b[49m\u001b[43m \u001b[49m\u001b[33;43m'\u001b[39;49m\u001b[33;43mrb\u001b[39;49m\u001b[33;43m'\u001b[39;49m\u001b[43m)\u001b[49m \u001b[38;5;28;01mas\u001b[39;00m fh:\n\u001b[32m    285\u001b[39m \t\t\u001b[38;5;66;03m# This attempts to detect gzip mode; gzip should always\u001b[39;00m\n\u001b[32m    286\u001b[39m \t\t\u001b[38;5;66;03m# have this header, and text json can't have it.\u001b[39;00m\n\u001b[32m    287\u001b[39m \t\topen_binary = (fh.read(\u001b[32m2\u001b[39m) == \u001b[33mb\u001b[39m\u001b[33m'\u001b[39m\u001b[38;5;130;01m\\x1f\u001b[39;00m\u001b[38;5;130;01m\\x8b\u001b[39;00m\u001b[33m'\u001b[39m)\n\u001b[32m    288\u001b[39m \u001b[38;5;28;01mwith\u001b[39;00m \u001b[38;5;28mopen\u001b[39m(fp, \u001b[33m'\u001b[39m\u001b[33mrb\u001b[39m\u001b[33m'\u001b[39m \u001b[38;5;28;01mif\u001b[39;00m open_binary \u001b[38;5;28;01melse\u001b[39;00m \u001b[33m'\u001b[39m\u001b[33mr\u001b[39m\u001b[33m'\u001b[39m) \u001b[38;5;28;01mas\u001b[39;00m fh:\n",
                        "\u001b[31mFileNotFoundError\u001b[39m: [Errno 2] No such file or directory: '.inputs.json'"
                    ]
                }
            ],
            "source": [
                "import numpy as np\n",
                "import json_tricks\n",
                "\n",
                "\n",
                "inputs = json_tricks.load('inputs.json')\n",
                "answer = {}"
            ]
        },
        {
            "cell_type": "markdown",
            "id": "2c2ca969",
            "metadata": {},
            "source": [
                "# Contra- and Co- Variant Coordinates (Task)\n",
                "\n",
                "Find convariant and contravariant coordinates of the vectors:\n",
                "\n",
                "$$\\mathbf x = \\begin{bmatrix}\n",
                "1 \\\\ 2 \\\\ 3\n",
                "\\end{bmatrix}, \n",
                "\n",
                "\\mathbf y = \\begin{bmatrix}\n",
                "3 \\\\ 4 \\\\ 5\n",
                "\\end{bmatrix}$$\n",
                "\n",
                "in two sets of basis:\n",
                "\n",
                "$$\n",
                "\\begin{bmatrix}\n",
                "\\mathbf a_1 & \\mathbf a_2 & \\mathbf a_3\n",
                "\\end{bmatrix}\n",
                "=\n",
                "\\begin{bmatrix}\n",
                "1 & 1 & 1 \\\\\n",
                "0 & 1 & 1 \\\\\n",
                "0 & 0 & 1 \\\\\n",
                "\\end{bmatrix}\n",
                "$$\n",
                "\n",
                "$$\n",
                "\\begin{bmatrix}\n",
                "\\mathbf b_1 & \\mathbf b_2 & \\mathbf b_3\n",
                "\\end{bmatrix}\n",
                "=\n",
                "\\begin{bmatrix}\n",
                "1 & 0 & 0 \\\\\n",
                "1 & 1 & 0 \\\\\n",
                "1 & 1 & 1 \\\\\n",
                "\\end{bmatrix}\n",
                "$$"
            ]
        },
        {
            "cell_type": "code",
            "execution_count": null,
            "id": "8f3528a9",
            "metadata": {},
            "outputs": [],
            "source": [
                "answer['task0'] = {\n",
                "    'a': {\n",
                "        'contravariant_x': np.array([\n",
                "            ## YOUR ANSWER HERE\n",
                "        ]),\n",
                "        'contravariant_y': np.array([\n",
                "            ## YOUR ANSWER HERE\n",
                "        ]),\n",
                "        'covariant_x': np.array([\n",
                "            ## YOUR ANSWER HERE\n",
                "        ]),\n",
                "        'covariant_y': np.array([\n",
                "            ## YOUR ANSWER HERE\n",
                "        ])\n",
                "    },\n",
                "    'b': {\n",
                "        'contravariant_x': np.array([\n",
                "            ## YOUR ANSWER HERE\n",
                "        ]),\n",
                "        'contravariant_y': np.array([\n",
                "            ## YOUR ANSWER HERE\n",
                "        ]),\n",
                "        'covariant_x': np.array([\n",
                "            ## YOUR ANSWER HERE\n",
                "        ]),\n",
                "        'covariant_y': np.array([\n",
                "            ## YOUR ANSWER HERE\n",
                "        ])\n",
                "    }\n",
                "}"
            ]
        },
        {
            "cell_type": "markdown",
            "id": "d51c9b4b",
            "metadata": {},
            "source": [
                "# 3-dimensional arrays\n",
                "\n",
                "It is time to start working with 3 dimensional arrays. That\n",
                "might be useful when you want to speed up some calculations.\n",
                "\n",
                "## Task\n",
                "\n",
                "You are given a set of $N$ basis vectors in the form of row-matrix $B$ of size $N \\times M$ and a set of **contravariant** coordinates in that basis $C$ for $K$ vectors of size $N \\times K$:\n",
                "\n",
                "$$B = \n",
                "\\begin{bmatrix}\n",
                "- & \\mathbf b_1 & - \\\\\n",
                "- & \\mathbf b_2 & - \\\\\n",
                "  & \\dots & \\\\\n",
                "- & \\mathbf b_N & -\n",
                "\\end{bmatrix}$$\n",
                "\n",
                "$$C =\n",
                "\\begin{bmatrix}\n",
                "c_1^1 & c_1^2 & \\dots & c_1^K \\\\\n",
                "c_2^1 & c_2^2 & \\dots & c_2^K \\\\\n",
                "\\vdots & \\vdots & \\ddots & \\vdots \\\\\n",
                "c_N^1 & c_N^2 & \\dots & c_N^K \\\\\n",
                "\\end{bmatrix}\n",
                "$$\n",
                "\n",
                "Thus, $N$ is the number of the basis\n",
                "vectors and, thus number of coordinates in the span,\n",
                "$M$ is the dimensionality of the space, $K$ is the number of vectors to reconstruct.\n",
                "\n",
                "**The task is** to reconstruct the vectors that are defined using these coordinates. The answer should be\n",
                "a matrix of shape $K \\times M$\n",
                "\n",
                "**You should not use the cycles in this task**\n",
                "\n",
                "# Interface\n",
                "\n",
                "## Inputs\n",
                "\n",
                "`B, C` -- 2D `numpy` arrays\n",
                "\n",
                "## Outputs\n",
                "\n",
                "`V` -- 2D `numpy` array\n",
                "\n",
                "\n",
                "<details>\n",
                "<summary> <b>Hint</b> </summary>\n",
                "So, how are you supposed to deal with this task?\n",
                "\n",
                "If you are allowed to use cycles, that is rather simple: you\n",
                "iterate over the basis vectors and corresponding coordinates,\n",
                "multiply one with another and collect the result one-by-one.\n",
                "\n",
                "But the trick here is that you should do that in a vectorized\n",
                "manner. So, how to deal with it?\n",
                "\n",
                "We want in the end to recieve an array of the size \n",
                "$K \\times M$.\n",
                "\n",
                "And here is how this get it:\n",
                "1) reshape your basis vectors to the size of \n",
                "$N \\times 1 \\times M$. It is non-trivial to do that with\n",
                "usual `reshape`, so there is a function \n",
                "`numpy.expand_dims(x, position)` that allows to add a\n",
                "dimension of an array to the specified position. In this\n",
                "case the `position=1` as we want to insert dimension of\n",
                "size `1` to the first position.\n",
                "2) reshape the coordinates in this basis to the size of\n",
                "$N \\times K \\times 1$. Use `numpy.expand_dims` yet again.\n",
                "3) multiply two tensors from above and receive array of size\n",
                "$N \\times K \\times M$. This will first cast the shapes of \n",
                "the abovementioned arrays and then perform the multiplication.\n",
                "This result holds all the required products you may ever need.\n",
                "4) Now sum this array along the `axis=0` to get $K \\times M$\n",
                "array.\n",
                "5) Enjoy\n",
                "\n",
                "Note that although this approach works really fast, it\n",
                "requires quite a lot of memory. There is another way of doing\n",
                "this operation that we will study later.\n",
                "</details>"
            ]
        },
        {
            "cell_type": "code",
            "execution_count": null,
            "id": "bbf20b41",
            "metadata": {},
            "outputs": [],
            "source": [
                "def reconstruct_vectors(B, C):\n",
                "    res = C\n",
                "    # YOUR CODE HERE\n",
                "    return res"
            ]
        },
        {
            "cell_type": "code",
            "execution_count": null,
            "id": "6927ed2c",
            "metadata": {},
            "outputs": [],
            "source": [
                "answer['task1'] = []\n",
                "for input in inputs['task1']:\n",
                "    res = reconstruct_vectors(**input)\n",
                "    answer['task1'].append(res)"
            ]
        },
        {
            "cell_type": "markdown",
            "id": "f122a6d7",
            "metadata": {},
            "source": [
                "# Task\n",
                "\n",
                "You are given a set of vectors as basis that are stored\n",
                "in a row-matrix `numpy.ndarray` called `B` and a set of vectors\n",
                "`X`. It is guaranteed that the vectors from `X` come from\n",
                "the span of the `B` vectors. Find **covariant** coordinates\n",
                "of vectors `X` in this `basis`.\n",
                "\n",
                "## Interface\n",
                "\n",
                "**Inputs**: `basis: numpy.ndarray`\n",
                "\n",
                "**Outputs**: `coords: numpy.ndarray`"
            ]
        },
        {
            "cell_type": "code",
            "execution_count": null,
            "id": "ea34929b",
            "metadata": {},
            "outputs": [],
            "source": [
                "def get_covariant_coordinates(B, X):\n",
                "    res = X\n",
                "    ## YOUR CODE HERE\n",
                "    return res"
            ]
        },
        {
            "cell_type": "code",
            "execution_count": null,
            "id": "abaa82dd",
            "metadata": {},
            "outputs": [],
            "source": [
                "answer['task2'] = []\n",
                "for input in inputs['task2']:\n",
                "    res = get_covariant_coordinates(**input)\n",
                "    answer['task2'].append(res)"
            ]
        },
        {
            "cell_type": "markdown",
            "id": "4e6e88d7",
            "metadata": {},
            "source": [
                "# Task\n",
                "\n",
                "For the basis vectors and contravariant coordinates from task #1, find covariant coordinates"
            ]
        },
        {
            "cell_type": "code",
            "execution_count": null,
            "id": "53d1ef90",
            "metadata": {},
            "outputs": [],
            "source": [
                "def contravariant_to_covariant(B, C):\n",
                "    ## YOUR CODE HERE\n",
                "    return res"
            ]
        },
        {
            "cell_type": "code",
            "execution_count": null,
            "id": "38115af3",
            "metadata": {},
            "outputs": [],
            "source": [
                "answer['task3'] = []\n",
                "for input in inputs['task1']:\n",
                "    res = contravariant_to_covariant(**input)\n",
                "    answer['task3'].append(res)"
            ]
        },
        {
            "cell_type": "code",
            "execution_count": null,
            "id": "8902d900",
            "metadata": {},
            "outputs": [],
            "source": [
                "json_tricks.dump(answer, '.answer.json')"
            ]
        }
    ],
    "metadata": {
        "kernelspec": {
            "display_name": "Python 3",
            "language": "python",
            "name": "python3"
        },
        "language_info": {
            "codemirror_mode": {
                "name": "ipython",
                "version": 3
            },
            "file_extension": ".py",
            "mimetype": "text/x-python",
            "name": "python",
            "nbconvert_exporter": "python",
            "pygments_lexer": "ipython3",
            "version": "3.11.13"
        }
    },
    "nbformat": 4,
    "nbformat_minor": 5
}
